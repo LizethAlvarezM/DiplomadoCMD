{
  "nbformat": 4,
  "nbformat_minor": 0,
  "metadata": {
    "colab": {
      "provenance": [],
      "authorship_tag": "ABX9TyO/wtLiQHxmgEa1CKGNOYRs",
      "include_colab_link": true
    },
    "kernelspec": {
      "name": "python3",
      "display_name": "Python 3"
    },
    "language_info": {
      "name": "python"
    }
  },
  "cells": [
    {
      "cell_type": "markdown",
      "metadata": {
        "id": "view-in-github",
        "colab_type": "text"
      },
      "source": [
        "<a href=\"https://colab.research.google.com/github/LizethAlvarezM/DiplomadoCMD/blob/main/Conceptos_b%C3%A1sicos_de_Python.ipynb\" target=\"_parent\"><img src=\"https://colab.research.google.com/assets/colab-badge.svg\" alt=\"Open In Colab\"/></a>"
      ]
    },
    {
      "cell_type": "markdown",
      "source": [
        "***FUNDAMENTOS DE PYTHON***"
      ],
      "metadata": {
        "id": "t4mcsWfamh_M"
      }
    },
    {
      "cell_type": "code",
      "execution_count": null,
      "metadata": {
        "colab": {
          "base_uri": "https://localhost:8080/"
        },
        "id": "VpDF3x4465aX",
        "outputId": "8102d4da-abef-4495-f368-d1281d4bd5b9"
      },
      "outputs": [
        {
          "output_type": "execute_result",
          "data": {
            "text/plain": [
              "5"
            ]
          },
          "metadata": {},
          "execution_count": 127
        }
      ],
      "source": [
        "35//7\n"
      ]
    },
    {
      "cell_type": "code",
      "source": [
        "int(3.5)"
      ],
      "metadata": {
        "colab": {
          "base_uri": "https://localhost:8080/"
        },
        "id": "YnfBq3o8-ecL",
        "outputId": "1bdaf639-9736-48eb-e9a6-9aa967b17f7f"
      },
      "execution_count": null,
      "outputs": [
        {
          "output_type": "execute_result",
          "data": {
            "text/plain": [
              "3"
            ]
          },
          "metadata": {},
          "execution_count": 2
        }
      ]
    },
    {
      "cell_type": "code",
      "source": [
        "name=\"Alma Lizeth\""
      ],
      "metadata": {
        "id": "6HHaDDcoBI80"
      },
      "execution_count": null,
      "outputs": []
    },
    {
      "cell_type": "code",
      "source": [
        "name[::2]"
      ],
      "metadata": {
        "colab": {
          "base_uri": "https://localhost:8080/",
          "height": 35
        },
        "id": "hgR3lJvkBNm3",
        "outputId": "e11d1c6f-436a-408a-94dc-9564746d2617"
      },
      "execution_count": null,
      "outputs": [
        {
          "output_type": "execute_result",
          "data": {
            "text/plain": [
              "'AmLzt'"
            ],
            "application/vnd.google.colaboratory.intrinsic+json": {
              "type": "string"
            }
          },
          "metadata": {},
          "execution_count": 7
        }
      ]
    },
    {
      "cell_type": "code",
      "source": [
        "name[4]\n"
      ],
      "metadata": {
        "colab": {
          "base_uri": "https://localhost:8080/",
          "height": 35
        },
        "id": "wO-CAwdXBakH",
        "outputId": "a9614129-4e0d-4019-e241-fab5311cb25b"
      },
      "execution_count": null,
      "outputs": [
        {
          "output_type": "execute_result",
          "data": {
            "text/plain": [
              "'L'"
            ],
            "application/vnd.google.colaboratory.intrinsic+json": {
              "type": "string"
            }
          },
          "metadata": {},
          "execution_count": 8
        }
      ]
    },
    {
      "cell_type": "code",
      "source": [
        "statment= \"is the best\""
      ],
      "metadata": {
        "id": "ixCtx--xBeiV"
      },
      "execution_count": null,
      "outputs": []
    },
    {
      "cell_type": "code",
      "source": [
        "3*name"
      ],
      "metadata": {
        "colab": {
          "base_uri": "https://localhost:8080/",
          "height": 35
        },
        "id": "6oNPzO2xBjfM",
        "outputId": "1f94dd88-aa03-44b4-ba2f-8e0b72a4b40d"
      },
      "execution_count": null,
      "outputs": [
        {
          "output_type": "execute_result",
          "data": {
            "text/plain": [
              "'Alma LizethAlma LizethAlma Lizeth'"
            ],
            "application/vnd.google.colaboratory.intrinsic+json": {
              "type": "string"
            }
          },
          "metadata": {},
          "execution_count": 15
        }
      ]
    },
    {
      "cell_type": "code",
      "source": [
        "name.upper()"
      ],
      "metadata": {
        "colab": {
          "base_uri": "https://localhost:8080/",
          "height": 35
        },
        "id": "bpUnidebBkcy",
        "outputId": "9c27ccea-5bea-459a-d43f-f768ee1c0e93"
      },
      "execution_count": null,
      "outputs": [
        {
          "output_type": "execute_result",
          "data": {
            "text/plain": [
              "'ALMALIZETH'"
            ],
            "application/vnd.google.colaboratory.intrinsic+json": {
              "type": "string"
            }
          },
          "metadata": {},
          "execution_count": 11
        }
      ]
    },
    {
      "cell_type": "code",
      "source": [
        "name.find(\"Alm\")"
      ],
      "metadata": {
        "colab": {
          "base_uri": "https://localhost:8080/"
        },
        "id": "f9DYUnMQBt_n",
        "outputId": "b4a29bcb-ce85-4def-8f5b-e2f63a7564c8"
      },
      "execution_count": null,
      "outputs": [
        {
          "output_type": "execute_result",
          "data": {
            "text/plain": [
              "0"
            ]
          },
          "metadata": {},
          "execution_count": 12
        }
      ]
    },
    {
      "cell_type": "code",
      "source": [
        "name.replace(\"Lizeth\",\"Alvarez\")"
      ],
      "metadata": {
        "colab": {
          "base_uri": "https://localhost:8080/",
          "height": 35
        },
        "id": "JWaaTv5YB5Pu",
        "outputId": "3213d4bb-a5e9-4b01-81f1-063df15f1f8a"
      },
      "execution_count": null,
      "outputs": [
        {
          "output_type": "execute_result",
          "data": {
            "text/plain": [
              "'Alma Alvarez'"
            ],
            "application/vnd.google.colaboratory.intrinsic+json": {
              "type": "string"
            }
          },
          "metadata": {},
          "execution_count": 16
        }
      ]
    },
    {
      "cell_type": "markdown",
      "source": [
        "TUPLAS"
      ],
      "metadata": {
        "id": "i3NrKIz3CWw_"
      }
    },
    {
      "cell_type": "code",
      "source": [
        "Ratings =(10,9,6,5,17,3,2,7)"
      ],
      "metadata": {
        "id": "C0FxSQbyCX4b"
      },
      "execution_count": null,
      "outputs": []
    },
    {
      "cell_type": "code",
      "source": [
        "tuple2=(\"hola\",3,5)"
      ],
      "metadata": {
        "id": "T0Kt_7SIDSC7"
      },
      "execution_count": null,
      "outputs": []
    },
    {
      "cell_type": "code",
      "source": [
        "Tuple1 = Ratings + tuple2"
      ],
      "metadata": {
        "id": "opBaRaiCDYXc"
      },
      "execution_count": null,
      "outputs": []
    },
    {
      "cell_type": "code",
      "source": [
        "Tuple1[3]"
      ],
      "metadata": {
        "colab": {
          "base_uri": "https://localhost:8080/"
        },
        "id": "pW2QITpcDi3W",
        "outputId": "ef9a853f-068b-47d5-8912-4a06ce6b5654"
      },
      "execution_count": null,
      "outputs": [
        {
          "output_type": "execute_result",
          "data": {
            "text/plain": [
              "5"
            ]
          },
          "metadata": {},
          "execution_count": 20
        }
      ]
    },
    {
      "cell_type": "code",
      "source": [
        "NTupla =(1,2,(\"hola\", \"adios\"),(3,4),(\"disco\",(1,2)))"
      ],
      "metadata": {
        "id": "lZdT1WCAEQNQ"
      },
      "execution_count": null,
      "outputs": []
    },
    {
      "cell_type": "code",
      "source": [
        "NTupla[2][1]"
      ],
      "metadata": {
        "colab": {
          "base_uri": "https://localhost:8080/",
          "height": 35
        },
        "id": "lDZlM7ZkEenL",
        "outputId": "faa7a7e5-110f-401b-9ade-efd1b989d878"
      },
      "execution_count": null,
      "outputs": [
        {
          "output_type": "execute_result",
          "data": {
            "text/plain": [
              "'adios'"
            ],
            "application/vnd.google.colaboratory.intrinsic+json": {
              "type": "string"
            }
          },
          "metadata": {},
          "execution_count": 23
        }
      ]
    },
    {
      "cell_type": "code",
      "source": [
        "NTupla[2]"
      ],
      "metadata": {
        "colab": {
          "base_uri": "https://localhost:8080/"
        },
        "id": "to7sCW8iEkDD",
        "outputId": "d9bc6c5f-eaf3-4a77-feb8-f0d18035a558"
      },
      "execution_count": null,
      "outputs": [
        {
          "output_type": "execute_result",
          "data": {
            "text/plain": [
              "('hola', 'adios')"
            ]
          },
          "metadata": {},
          "execution_count": 24
        }
      ]
    },
    {
      "cell_type": "code",
      "source": [
        "NTupla[4][1][0]"
      ],
      "metadata": {
        "colab": {
          "base_uri": "https://localhost:8080/"
        },
        "id": "F0oId_3tEpB7",
        "outputId": "d3984351-bea1-4452-8ceb-8563917f413d"
      },
      "execution_count": null,
      "outputs": [
        {
          "output_type": "execute_result",
          "data": {
            "text/plain": [
              "1"
            ]
          },
          "metadata": {},
          "execution_count": 28
        }
      ]
    },
    {
      "cell_type": "code",
      "source": [
        "L=[\"Michael Jackson\",10.5,123]"
      ],
      "metadata": {
        "id": "MkhA6IznEpJg"
      },
      "execution_count": null,
      "outputs": []
    },
    {
      "cell_type": "code",
      "source": [
        "L[0]"
      ],
      "metadata": {
        "colab": {
          "base_uri": "https://localhost:8080/",
          "height": 35
        },
        "id": "dVaLatfmFz7A",
        "outputId": "07d52a53-1b32-4973-d548-30fddc3859b3"
      },
      "execution_count": null,
      "outputs": [
        {
          "output_type": "execute_result",
          "data": {
            "text/plain": [
              "'Michael Jackson'"
            ],
            "application/vnd.google.colaboratory.intrinsic+json": {
              "type": "string"
            }
          },
          "metadata": {},
          "execution_count": 30
        }
      ]
    },
    {
      "cell_type": "code",
      "source": [
        "L1=L+[\"pap\",10]"
      ],
      "metadata": {
        "id": "TGxQkAPWF15T"
      },
      "execution_count": null,
      "outputs": []
    },
    {
      "cell_type": "code",
      "source": [
        "L1[:3]"
      ],
      "metadata": {
        "colab": {
          "base_uri": "https://localhost:8080/"
        },
        "id": "O4kE7QqMF5sd",
        "outputId": "ed286838-4ed3-4156-e75f-73a2004bfde3"
      },
      "execution_count": null,
      "outputs": [
        {
          "output_type": "execute_result",
          "data": {
            "text/plain": [
              "['Michael Jackson', 10.5, 123]"
            ]
          },
          "metadata": {},
          "execution_count": 32
        }
      ]
    },
    {
      "cell_type": "code",
      "source": [
        "L"
      ],
      "metadata": {
        "colab": {
          "base_uri": "https://localhost:8080/"
        },
        "id": "llpC4Mc9F75x",
        "outputId": "9050be6e-e69b-40b1-a2d6-2c8348a764f5"
      },
      "execution_count": null,
      "outputs": [
        {
          "output_type": "execute_result",
          "data": {
            "text/plain": [
              "['Michael Jackson', 10.5, 123]"
            ]
          },
          "metadata": {},
          "execution_count": 33
        }
      ]
    },
    {
      "cell_type": "code",
      "source": [
        "L.extend([\"pop\",13])\n",
        "L"
      ],
      "metadata": {
        "colab": {
          "base_uri": "https://localhost:8080/"
        },
        "id": "kHtqNLGdF9gx",
        "outputId": "0b6518b2-c402-4db5-a797-d1e6f17a74c2"
      },
      "execution_count": null,
      "outputs": [
        {
          "output_type": "execute_result",
          "data": {
            "text/plain": [
              "['Michael Jackson', 10.5, 123, 'pop', 13, 'pop', 13]"
            ]
          },
          "metadata": {},
          "execution_count": 35
        }
      ]
    },
    {
      "cell_type": "code",
      "source": [
        "del(L[0])\n",
        "L"
      ],
      "metadata": {
        "colab": {
          "base_uri": "https://localhost:8080/"
        },
        "id": "heqnJ2y6GEN-",
        "outputId": "c6e757a7-84e3-4229-f5fb-540274a7a6a0"
      },
      "execution_count": null,
      "outputs": [
        {
          "output_type": "execute_result",
          "data": {
            "text/plain": [
              "[123, 'pop', 13, 'pop', 13]"
            ]
          },
          "metadata": {},
          "execution_count": 37
        }
      ]
    },
    {
      "cell_type": "code",
      "source": [
        "\"Michael Jackson\".split()"
      ],
      "metadata": {
        "colab": {
          "base_uri": "https://localhost:8080/"
        },
        "id": "VL2nB5hyGOWH",
        "outputId": "b6aae6d4-ab65-4ce9-b0ef-0926597c776e"
      },
      "execution_count": null,
      "outputs": [
        {
          "output_type": "execute_result",
          "data": {
            "text/plain": [
              "['Michael', 'Jackson']"
            ]
          },
          "metadata": {},
          "execution_count": 38
        }
      ]
    },
    {
      "cell_type": "code",
      "source": [
        "\"a,b,c,d,e,f\".split(\",\")"
      ],
      "metadata": {
        "colab": {
          "base_uri": "https://localhost:8080/"
        },
        "id": "WGDCdzybGVs4",
        "outputId": "5916fda0-a1d8-4482-a54c-8b69cd2ce467"
      },
      "execution_count": null,
      "outputs": [
        {
          "output_type": "execute_result",
          "data": {
            "text/plain": [
              "['a', 'b', 'c', 'd', 'e', 'f']"
            ]
          },
          "metadata": {},
          "execution_count": 40
        }
      ]
    },
    {
      "cell_type": "code",
      "source": [
        "type(L)"
      ],
      "metadata": {
        "colab": {
          "base_uri": "https://localhost:8080/"
        },
        "id": "vvBU02_rG9mY",
        "outputId": "b073c328-8958-4892-b1e3-cd0c3e4b6ace"
      },
      "execution_count": null,
      "outputs": [
        {
          "output_type": "execute_result",
          "data": {
            "text/plain": [
              "list"
            ]
          },
          "metadata": {},
          "execution_count": 41
        }
      ]
    },
    {
      "cell_type": "markdown",
      "source": [
        "CONJUNTOS"
      ],
      "metadata": {
        "id": "Pp1u1jtcG__A"
      }
    },
    {
      "cell_type": "code",
      "source": [
        "set1 = {\"pop\",\"rock\",\"soul\",\"hard rock\",\"rock\",\"disco\"}\n",
        "set1"
      ],
      "metadata": {
        "colab": {
          "base_uri": "https://localhost:8080/"
        },
        "id": "cHvG8fSGHhmi",
        "outputId": "8f9f0de9-8b38-4ffa-e932-6fb619cc5b48"
      },
      "execution_count": null,
      "outputs": [
        {
          "output_type": "execute_result",
          "data": {
            "text/plain": [
              "{'disco', 'hard rock', 'pop', 'rock', 'soul'}"
            ]
          },
          "metadata": {},
          "execution_count": 43
        }
      ]
    },
    {
      "cell_type": "code",
      "source": [
        "album_list =[\"Michael Jackson\", \"Thriller\", \"Thriller\", 1982]\n",
        "album_set = set(album_list)\n",
        "album_set"
      ],
      "metadata": {
        "colab": {
          "base_uri": "https://localhost:8080/"
        },
        "id": "646RTGT_Hune",
        "outputId": "852caf46-a7af-4c7a-952f-f2db7837dc3c"
      },
      "execution_count": null,
      "outputs": [
        {
          "output_type": "execute_result",
          "data": {
            "text/plain": [
              "{1982, 'Michael Jackson', 'Thriller'}"
            ]
          },
          "metadata": {},
          "execution_count": 44
        }
      ]
    },
    {
      "cell_type": "code",
      "source": [
        "set2 = {\"Thriller\", \"Black in black\", \"AC/DC\"}\n",
        "set2.add(\"NSYNC\")\n",
        "set2"
      ],
      "metadata": {
        "colab": {
          "base_uri": "https://localhost:8080/"
        },
        "id": "-aD5JK9WIQm1",
        "outputId": "31ca3fcf-d859-40eb-a723-7ab54330a696"
      },
      "execution_count": null,
      "outputs": [
        {
          "output_type": "execute_result",
          "data": {
            "text/plain": [
              "{'AC/DC', 'Black in black', 'NSYNC', 'Thriller'}"
            ]
          },
          "metadata": {},
          "execution_count": 45
        }
      ]
    },
    {
      "cell_type": "code",
      "source": [
        "set2.remove (\"NSYNC\")"
      ],
      "metadata": {
        "id": "U2Xb4chKIwb0"
      },
      "execution_count": null,
      "outputs": []
    },
    {
      "cell_type": "code",
      "source": [
        "\"AC/DC\" in set2"
      ],
      "metadata": {
        "colab": {
          "base_uri": "https://localhost:8080/"
        },
        "id": "DvRi0TQzI0Ui",
        "outputId": "ae365556-71e9-4c5c-ec0f-8e2ac47fff96"
      },
      "execution_count": null,
      "outputs": [
        {
          "output_type": "execute_result",
          "data": {
            "text/plain": [
              "True"
            ]
          },
          "metadata": {},
          "execution_count": 47
        }
      ]
    },
    {
      "cell_type": "code",
      "source": [
        "\"The who\" in set2"
      ],
      "metadata": {
        "colab": {
          "base_uri": "https://localhost:8080/"
        },
        "id": "9K1-A8a4I5K2",
        "outputId": "01f817bc-acbb-46c6-c242-d05dfd719226"
      },
      "execution_count": null,
      "outputs": [
        {
          "output_type": "execute_result",
          "data": {
            "text/plain": [
              "False"
            ]
          },
          "metadata": {},
          "execution_count": 48
        }
      ]
    },
    {
      "cell_type": "code",
      "source": [
        "set3 ={\"a\",\"b\",\"c\",\"d\"}\n",
        "set4 = {\"b\",\"d\",\"e\"}\n",
        "set5 = set3 & set4\n",
        "set5"
      ],
      "metadata": {
        "colab": {
          "base_uri": "https://localhost:8080/"
        },
        "id": "aKPB_nAgI8LE",
        "outputId": "587931cc-68bc-4094-94f9-6779904b2718"
      },
      "execution_count": null,
      "outputs": [
        {
          "output_type": "execute_result",
          "data": {
            "text/plain": [
              "{'b', 'd'}"
            ]
          },
          "metadata": {},
          "execution_count": 49
        }
      ]
    },
    {
      "cell_type": "code",
      "source": [
        "set3.union(set4)"
      ],
      "metadata": {
        "colab": {
          "base_uri": "https://localhost:8080/"
        },
        "id": "ZzxN9JS9JMyC",
        "outputId": "998f4566-788c-41b4-e84a-48ff7145caca"
      },
      "execution_count": null,
      "outputs": [
        {
          "output_type": "execute_result",
          "data": {
            "text/plain": [
              "{'a', 'b', 'c', 'd', 'e'}"
            ]
          },
          "metadata": {},
          "execution_count": 50
        }
      ]
    },
    {
      "cell_type": "markdown",
      "source": [
        "DICCIONARIOS"
      ],
      "metadata": {
        "id": "4A3zUacmHBZx"
      }
    },
    {
      "cell_type": "code",
      "source": [
        "album_dict1 = {'Thriller':1982, 'Back in Black':1980, 'The Dark Side of the Moon':1973, 'The Bodyguard':1992, 'Bat Out of Hell':1977, 'Their Greatest...':1976, 'Saturday Night Fever':1977, 'Rumours':1977}\n",
        "album_dict1"
      ],
      "metadata": {
        "colab": {
          "base_uri": "https://localhost:8080/"
        },
        "id": "UMGFIx4ZJqy9",
        "outputId": "c13ab61a-cac2-4dd1-ecb6-c2586a266202"
      },
      "execution_count": null,
      "outputs": [
        {
          "output_type": "execute_result",
          "data": {
            "text/plain": [
              "{'Thriller': 1982,\n",
              " 'Back in Black': 1980,\n",
              " 'The Dark Side of the Moon': 1973,\n",
              " 'The Bodyguard': 1992,\n",
              " 'Bat Out of Hell': 1977,\n",
              " 'Their Greatest...': 1976,\n",
              " 'Saturday Night Fever': 1977,\n",
              " 'Rumours': 1977}"
            ]
          },
          "metadata": {},
          "execution_count": 54
        }
      ]
    },
    {
      "cell_type": "code",
      "source": [
        "album_dict1.keys()"
      ],
      "metadata": {
        "colab": {
          "base_uri": "https://localhost:8080/"
        },
        "id": "qUOsMG3EKsn1",
        "outputId": "422503c4-9f5b-4763-e4fb-22ce22e00290"
      },
      "execution_count": null,
      "outputs": [
        {
          "output_type": "execute_result",
          "data": {
            "text/plain": [
              "dict_keys(['Thriller', 'Back in Black', 'The Dark Side of the Moon', 'The Bodyguard', 'Bat Out of Hell', 'Their Greatest...', 'Saturday Night Fever', 'Rumours'])"
            ]
          },
          "metadata": {},
          "execution_count": 55
        }
      ]
    },
    {
      "cell_type": "code",
      "source": [
        "album_dict1[\"Thriller\"]"
      ],
      "metadata": {
        "colab": {
          "base_uri": "https://localhost:8080/"
        },
        "id": "OLadTJ-zKv_c",
        "outputId": "5687e2ee-1c04-4d77-d7e0-45de9449a84f"
      },
      "execution_count": null,
      "outputs": [
        {
          "output_type": "execute_result",
          "data": {
            "text/plain": [
              "1982"
            ]
          },
          "metadata": {},
          "execution_count": 56
        }
      ]
    },
    {
      "cell_type": "markdown",
      "source": [
        "OPERADORES"
      ],
      "metadata": {
        "id": "D-YsAxvrK1m1"
      }
    },
    {
      "cell_type": "code",
      "source": [
        "a = 6"
      ],
      "metadata": {
        "id": "d9aVCekrK3Iq"
      },
      "execution_count": null,
      "outputs": []
    },
    {
      "cell_type": "code",
      "source": [
        "a==7"
      ],
      "metadata": {
        "colab": {
          "base_uri": "https://localhost:8080/"
        },
        "id": "9NrzVecBK6qG",
        "outputId": "1811b409-e14d-4bf6-ecb5-5f46ba97ca2a"
      },
      "execution_count": null,
      "outputs": [
        {
          "output_type": "execute_result",
          "data": {
            "text/plain": [
              "False"
            ]
          },
          "metadata": {},
          "execution_count": 52
        }
      ]
    },
    {
      "cell_type": "code",
      "source": [
        "i=9\n",
        "i>5"
      ],
      "metadata": {
        "colab": {
          "base_uri": "https://localhost:8080/"
        },
        "id": "DyCAkmmvK9lF",
        "outputId": "1c31c53b-e7ac-41b9-e66c-790a0d59fd27"
      },
      "execution_count": null,
      "outputs": [
        {
          "output_type": "execute_result",
          "data": {
            "text/plain": [
              "True"
            ]
          },
          "metadata": {},
          "execution_count": 53
        }
      ]
    },
    {
      "cell_type": "code",
      "source": [
        "edad = 22\n",
        "if edad > 18:\n",
        "  print(\"Puedes ingresar\")\n",
        "elif edad == 24:\n",
        "  print(\"Vives tu último año factorial\")\n",
        "else:\n",
        "  print(\"Eres joven\")"
      ],
      "metadata": {
        "colab": {
          "base_uri": "https://localhost:8080/"
        },
        "id": "keuDmH8hLN3q",
        "outputId": "0fecd077-aec4-4dd9-c156-a18de3b5fb8e"
      },
      "execution_count": null,
      "outputs": [
        {
          "output_type": "stream",
          "name": "stdout",
          "text": [
            "Puedes ingresar\n"
          ]
        }
      ]
    },
    {
      "cell_type": "code",
      "source": [
        "edad = 22\n",
        "if edad > 18 or edad < 30:\n",
        "  print(\"Eres joven\")\n",
        "else:\n",
        "  print(\"Eres muy joven o un adulto\")"
      ],
      "metadata": {
        "colab": {
          "base_uri": "https://localhost:8080/"
        },
        "id": "tmkkknzLNHvt",
        "outputId": "f63bb669-b839-43e7-dcb2-af3eea499a2c"
      },
      "execution_count": null,
      "outputs": [
        {
          "output_type": "stream",
          "name": "stdout",
          "text": [
            "Eres joven\n"
          ]
        }
      ]
    },
    {
      "cell_type": "code",
      "source": [
        "edad = 50\n",
        "if edad > 18 and edad < 30:\n",
        "  print(\"Eres joven\")\n",
        "else:\n",
        "  print(\"Eres muy joven o un adulto\")"
      ],
      "metadata": {
        "colab": {
          "base_uri": "https://localhost:8080/"
        },
        "id": "j-h0mu6lNaPe",
        "outputId": "50ed012c-5ac7-4704-c4d7-e872c334422d"
      },
      "execution_count": null,
      "outputs": [
        {
          "output_type": "stream",
          "name": "stdout",
          "text": [
            "Eres muy joven o un adulto\n"
          ]
        }
      ]
    },
    {
      "cell_type": "code",
      "source": [
        "colores =[\"rojo\",\"amarillo\",\"verde\",\"morado\",\"azul\"]\n",
        "colores"
      ],
      "metadata": {
        "colab": {
          "base_uri": "https://localhost:8080/"
        },
        "id": "4O07k5zGOPXG",
        "outputId": "696c4724-4f03-404c-f93b-67dcc6fa9f29"
      },
      "execution_count": null,
      "outputs": [
        {
          "output_type": "execute_result",
          "data": {
            "text/plain": [
              "['rojo', 'amarillo', 'verde', 'morado', 'azul']"
            ]
          },
          "metadata": {},
          "execution_count": 64
        }
      ]
    },
    {
      "cell_type": "code",
      "source": [
        "for i in range(3,5):\n",
        "  colores[i]=\"negro\"\n",
        "\n",
        "colores"
      ],
      "metadata": {
        "colab": {
          "base_uri": "https://localhost:8080/"
        },
        "id": "aMa4jVBROgRH",
        "outputId": "6719e7ea-95cf-44b9-a443-1a6b6efad451"
      },
      "execution_count": null,
      "outputs": [
        {
          "output_type": "execute_result",
          "data": {
            "text/plain": [
              "['rojo', 'amarillo', 'verde', 'negro', 'negro']"
            ]
          },
          "metadata": {},
          "execution_count": 67
        }
      ]
    },
    {
      "cell_type": "code",
      "source": [
        "colores =[\"rojo\",\"amarillo\",\"verde\",\"morado\",\"azul\"]\n",
        "for color in colores:\n",
        "  print(color)"
      ],
      "metadata": {
        "colab": {
          "base_uri": "https://localhost:8080/"
        },
        "id": "Guf0JpzaO3me",
        "outputId": "b5ff8f7c-05dc-4a23-ede9-d050b9513431"
      },
      "execution_count": null,
      "outputs": [
        {
          "output_type": "stream",
          "name": "stdout",
          "text": [
            "rojo\n",
            "amarillo\n",
            "verde\n",
            "morado\n",
            "azul\n"
          ]
        }
      ]
    },
    {
      "cell_type": "code",
      "source": [
        "range (10)"
      ],
      "metadata": {
        "colab": {
          "base_uri": "https://localhost:8080/"
        },
        "id": "k1KlUUQyPFR8",
        "outputId": "e91a726b-0b8d-482b-e51d-459d2474cf30"
      },
      "execution_count": null,
      "outputs": [
        {
          "output_type": "execute_result",
          "data": {
            "text/plain": [
              "range(0, 10)"
            ]
          },
          "metadata": {},
          "execution_count": 69
        }
      ]
    },
    {
      "cell_type": "code",
      "source": [
        "list(range(0,5))"
      ],
      "metadata": {
        "colab": {
          "base_uri": "https://localhost:8080/"
        },
        "id": "4VB1oQJ6Piv-",
        "outputId": "f4665a2c-4018-4fce-d018-13c225a90f54"
      },
      "execution_count": null,
      "outputs": [
        {
          "output_type": "execute_result",
          "data": {
            "text/plain": [
              "[0, 1, 2, 3, 4]"
            ]
          },
          "metadata": {},
          "execution_count": 70
        }
      ]
    },
    {
      "cell_type": "code",
      "source": [
        "list(range(3,5))"
      ],
      "metadata": {
        "colab": {
          "base_uri": "https://localhost:8080/"
        },
        "id": "5WE5gBcNPlRm",
        "outputId": "4248d8a9-6ac2-40df-f372-4fd0c52c57f1"
      },
      "execution_count": null,
      "outputs": [
        {
          "output_type": "execute_result",
          "data": {
            "text/plain": [
              "[3, 4]"
            ]
          },
          "metadata": {},
          "execution_count": 71
        }
      ]
    },
    {
      "cell_type": "markdown",
      "source": [
        "CICLO WHILE"
      ],
      "metadata": {
        "id": "nN4_rideVnU-"
      }
    },
    {
      "cell_type": "code",
      "source": [
        "colores =[\"rojo\", \"amarillo\", \"verde\", \"morado\", \"azul\"]\n",
        "i=0;\n",
        "\n",
        "while(colores[i] != \"morado\"):\n",
        "  print(colores[i])\n",
        "  i += 1"
      ],
      "metadata": {
        "colab": {
          "base_uri": "https://localhost:8080/"
        },
        "id": "XYJROO0eVq1k",
        "outputId": "9520ed8d-df0e-4ff4-f381-c1b002279380"
      },
      "execution_count": null,
      "outputs": [
        {
          "output_type": "stream",
          "name": "stdout",
          "text": [
            "rojo\n",
            "amarillo\n",
            "verde\n"
          ]
        }
      ]
    },
    {
      "cell_type": "markdown",
      "source": [
        "FUNCIONES"
      ],
      "metadata": {
        "id": "caxCLFZeWRVB"
      }
    },
    {
      "cell_type": "code",
      "source": [
        "cadena =[1, 6, 7, 5, 9, 7, 80, 1]\n",
        "len(cadena)"
      ],
      "metadata": {
        "colab": {
          "base_uri": "https://localhost:8080/"
        },
        "id": "glbOBz74WSqb",
        "outputId": "9f07c917-81e2-4f01-c12d-eae346ff7959"
      },
      "execution_count": null,
      "outputs": [
        {
          "output_type": "execute_result",
          "data": {
            "text/plain": [
              "8"
            ]
          },
          "metadata": {},
          "execution_count": 73
        }
      ]
    },
    {
      "cell_type": "code",
      "source": [
        "sum(cadena)"
      ],
      "metadata": {
        "colab": {
          "base_uri": "https://localhost:8080/"
        },
        "id": "L9aPLZ5mWjAe",
        "outputId": "1179e829-a349-4ffb-e5e6-a6021b8dfb74"
      },
      "execution_count": null,
      "outputs": [
        {
          "output_type": "execute_result",
          "data": {
            "text/plain": [
              "116"
            ]
          },
          "metadata": {},
          "execution_count": 74
        }
      ]
    },
    {
      "cell_type": "code",
      "source": [
        "sorted(cadena)"
      ],
      "metadata": {
        "colab": {
          "base_uri": "https://localhost:8080/"
        },
        "id": "WQKNO3gvXC8B",
        "outputId": "2238c5be-e08a-4e0b-d93c-438ffb4c0bf6"
      },
      "execution_count": null,
      "outputs": [
        {
          "output_type": "execute_result",
          "data": {
            "text/plain": [
              "[1, 1, 5, 6, 7, 7, 9, 80]"
            ]
          },
          "metadata": {},
          "execution_count": 75
        }
      ]
    },
    {
      "cell_type": "markdown",
      "source": [
        "CREAR FUNCIONES PROPIAS"
      ],
      "metadata": {
        "id": "aclwtBq3XF7M"
      }
    },
    {
      "cell_type": "code",
      "source": [
        "def doble(x):\n",
        "  y=2*x\n",
        "  return y"
      ],
      "metadata": {
        "id": "9kyHGg2aXH4r"
      },
      "execution_count": null,
      "outputs": []
    },
    {
      "cell_type": "code",
      "source": [
        "doble(5)"
      ],
      "metadata": {
        "colab": {
          "base_uri": "https://localhost:8080/"
        },
        "id": "SfITu5eQXQOa",
        "outputId": "95ff3c8e-80e3-42cf-ad60-8840ba66c856"
      },
      "execution_count": null,
      "outputs": [
        {
          "output_type": "execute_result",
          "data": {
            "text/plain": [
              "10"
            ]
          },
          "metadata": {},
          "execution_count": 77
        }
      ]
    },
    {
      "cell_type": "code",
      "source": [],
      "metadata": {
        "id": "J4zoI1C2XTJ3"
      },
      "execution_count": null,
      "outputs": []
    },
    {
      "cell_type": "markdown",
      "source": [
        "Ejercicio: Crear una función que tome como valores de entrada los coeficientes de una ecuación cuadrática y devuelva las raíces de dicha ecuación."
      ],
      "metadata": {
        "id": "M1vy-l33Xfs5"
      }
    },
    {
      "cell_type": "code",
      "source": [
        "import math\n",
        "from math import sqrt, exp\n",
        "def raices(a,b,c):\n",
        "  discriminante = b^2-(4*a*c)\n",
        "  if discriminante == 0:\n",
        "    x= (-b+sqrt(discriminante))/2*a\n",
        "    return f\"La solución es: {x}\"\n",
        "  elif discriminante>0:\n",
        "    x1=(-b+sqrt(discriminante))/2*a\n",
        "    x2=(-b-sqrt(discriminante))/2*a\n",
        "    return f\"Las soluciones son: {x1} y {x2}\"\n",
        "  else:\n",
        "    return f\"La ecuación no tiene raíces reales\""
      ],
      "metadata": {
        "id": "hLhwVc2FXpZt"
      },
      "execution_count": null,
      "outputs": []
    },
    {
      "cell_type": "code",
      "source": [
        "import numpy as np\n",
        "\n",
        "def cuadratica(a, b, c):\n",
        "    \"\"\" dados los coeficientes de una ecuación retorna las raíces reales\n",
        "        en caso de existir \"\"\"\n",
        "    discriminante = b**2 - 4*a*c\n",
        "    if discriminante >= 0:\n",
        "        x1 = -b/2*a + np.sqrt(discriminante)/2*a\n",
        "        x2 = -b/2*a - np.sqrt(discriminante)/2*a\n",
        "        return f'Las soluciones son: x1 = {x1}, x2 = {x2}'\n",
        "    else:\n",
        "        return f'La ecuación: ({a})x^2+({b})x+({c})=0 no tiene raíces reales'"
      ],
      "metadata": {
        "id": "8NRyTt_qcgdp"
      },
      "execution_count": null,
      "outputs": []
    },
    {
      "cell_type": "code",
      "source": [
        "raices (1,4,9)"
      ],
      "metadata": {
        "colab": {
          "base_uri": "https://localhost:8080/",
          "height": 35
        },
        "id": "Si0iSikDYLyr",
        "outputId": "d2800dd0-dd1c-47f7-e213-a4246c298699"
      },
      "execution_count": null,
      "outputs": [
        {
          "output_type": "execute_result",
          "data": {
            "text/plain": [
              "'La ecuación no tiene raíces reales'"
            ],
            "application/vnd.google.colaboratory.intrinsic+json": {
              "type": "string"
            }
          },
          "metadata": {},
          "execution_count": 107
        }
      ]
    },
    {
      "cell_type": "code",
      "source": [
        "def sumados(a):\n",
        "  b=a+2\n",
        "  print(f\"{a}+2={b}\")\n",
        "  return b"
      ],
      "metadata": {
        "id": "l40eoAZ0hIIU"
      },
      "execution_count": null,
      "outputs": []
    },
    {
      "cell_type": "code",
      "source": [
        "sumados(5)"
      ],
      "metadata": {
        "colab": {
          "base_uri": "https://localhost:8080/"
        },
        "id": "J-cPEUfuhSb0",
        "outputId": "5d1c0121-4a7e-407f-86fe-5dc516f6447a"
      },
      "execution_count": null,
      "outputs": [
        {
          "output_type": "stream",
          "name": "stdout",
          "text": [
            "5+2=7\n"
          ]
        },
        {
          "output_type": "execute_result",
          "data": {
            "text/plain": [
              "7"
            ]
          },
          "metadata": {},
          "execution_count": 110
        }
      ]
    },
    {
      "cell_type": "code",
      "source": [
        "def IV():\n",
        "  print (\"Hola mundo\")\n",
        "\n",
        "\n",
        "IV()"
      ],
      "metadata": {
        "colab": {
          "base_uri": "https://localhost:8080/"
        },
        "id": "JCZ4ZaaSh_1s",
        "outputId": "ab7cece3-a531-4ff4-93dc-fe496cb1f106"
      },
      "execution_count": null,
      "outputs": [
        {
          "output_type": "stream",
          "name": "stdout",
          "text": [
            "Hola mundo\n"
          ]
        }
      ]
    },
    {
      "cell_type": "code",
      "source": [
        "type([1,34,12])"
      ],
      "metadata": {
        "colab": {
          "base_uri": "https://localhost:8080/"
        },
        "id": "vMY3Gnm_ikto",
        "outputId": "a8d5628a-755b-4bfe-e477-7cb0d4b891e7"
      },
      "execution_count": null,
      "outputs": [
        {
          "output_type": "execute_result",
          "data": {
            "text/plain": [
              "list"
            ]
          },
          "metadata": {},
          "execution_count": 114
        }
      ]
    },
    {
      "cell_type": "markdown",
      "source": [
        "SINTAXIS FUNCIÓN LAMBDA ARGUMENTOS: EXPRESIÓN"
      ],
      "metadata": {
        "id": "iKh0fAb2kak1"
      }
    },
    {
      "cell_type": "code",
      "source": [
        "cubo = lambda x: x**3"
      ],
      "metadata": {
        "id": "XLYvEYf5kfzX"
      },
      "execution_count": null,
      "outputs": []
    },
    {
      "cell_type": "markdown",
      "source": [
        "*Lambda es como para funciones pequeñas*"
      ],
      "metadata": {
        "id": "VW8ZtVEGlPsc"
      }
    },
    {
      "cell_type": "code",
      "source": [
        "cubo(3)"
      ],
      "metadata": {
        "colab": {
          "base_uri": "https://localhost:8080/"
        },
        "id": "Wo9DWRElknLP",
        "outputId": "8fad6eb2-a1dd-4785-f54e-3ebcc307203b"
      },
      "execution_count": null,
      "outputs": [
        {
          "output_type": "execute_result",
          "data": {
            "text/plain": [
              "27"
            ]
          },
          "metadata": {},
          "execution_count": 119
        }
      ]
    },
    {
      "cell_type": "code",
      "source": [
        "def cubotradicional(a):\n",
        "  x=a**3\n",
        "  return x"
      ],
      "metadata": {
        "id": "m9CPZoeAk_HB"
      },
      "execution_count": null,
      "outputs": []
    },
    {
      "cell_type": "code",
      "source": [
        "cubotradicional(3)"
      ],
      "metadata": {
        "colab": {
          "base_uri": "https://localhost:8080/"
        },
        "id": "umh3yfGwlF4C",
        "outputId": "4515533c-7e6a-4f64-e49d-d4004185d434"
      },
      "execution_count": null,
      "outputs": [
        {
          "output_type": "execute_result",
          "data": {
            "text/plain": [
              "27"
            ]
          },
          "metadata": {},
          "execution_count": 123
        }
      ]
    },
    {
      "cell_type": "code",
      "source": [
        "lambda_funct = lambda x: True if x**2 >= 10 else False"
      ],
      "metadata": {
        "id": "b1LLtiKwldDr"
      },
      "execution_count": null,
      "outputs": []
    },
    {
      "cell_type": "code",
      "source": [
        "lambda_funct(4)"
      ],
      "metadata": {
        "colab": {
          "base_uri": "https://localhost:8080/"
        },
        "id": "sSNsnohzlk4b",
        "outputId": "347240d9-fa98-49f8-dab0-9135e361a3f0"
      },
      "execution_count": null,
      "outputs": [
        {
          "output_type": "execute_result",
          "data": {
            "text/plain": [
              "True"
            ]
          },
          "metadata": {},
          "execution_count": 126
        }
      ]
    },
    {
      "cell_type": "markdown",
      "source": [
        "MATRICES"
      ],
      "metadata": {
        "id": "3BHcASsbnae8"
      }
    },
    {
      "cell_type": "code",
      "source": [
        "m = [[1,2],[7,8]]\n",
        "m"
      ],
      "metadata": {
        "colab": {
          "base_uri": "https://localhost:8080/"
        },
        "id": "28GvEs-7nbke",
        "outputId": "11c0b556-1324-4b54-e6d1-efce73f68e89"
      },
      "execution_count": null,
      "outputs": [
        {
          "output_type": "execute_result",
          "data": {
            "text/plain": [
              "[[1, 2], [7, 8]]"
            ]
          },
          "metadata": {},
          "execution_count": 128
        }
      ]
    },
    {
      "cell_type": "code",
      "source": [
        "m[1][1]"
      ],
      "metadata": {
        "id": "Qn-eaF3vngtC",
        "outputId": "f3602ed2-3caa-4d2c-9e97-c4b64e88d02f",
        "colab": {
          "base_uri": "https://localhost:8080/"
        }
      },
      "execution_count": null,
      "outputs": [
        {
          "output_type": "execute_result",
          "data": {
            "text/plain": [
              "8"
            ]
          },
          "metadata": {},
          "execution_count": 129
        }
      ]
    }
  ]
}