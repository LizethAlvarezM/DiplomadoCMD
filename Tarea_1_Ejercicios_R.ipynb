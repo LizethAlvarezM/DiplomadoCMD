{
  "nbformat": 4,
  "nbformat_minor": 0,
  "metadata": {
    "colab": {
      "provenance": [],
      "include_colab_link": true
    },
    "kernelspec": {
      "name": "ir",
      "display_name": "R"
    },
    "language_info": {
      "name": "R"
    }
  },
  "cells": [
    {
      "cell_type": "markdown",
      "metadata": {
        "id": "view-in-github",
        "colab_type": "text"
      },
      "source": [
        "<a href=\"https://colab.research.google.com/github/LizethAlvarezM/DiplomadoCMD/blob/main/Tarea_1_Ejercicios_R.ipynb\" target=\"_parent\"><img src=\"https://colab.research.google.com/assets/colab-badge.svg\" alt=\"Open In Colab\"/></a>"
      ]
    },
    {
      "cell_type": "markdown",
      "source": [
        "# Ejercicios R"
      ],
      "metadata": {
        "id": "j4B6ZmSH6zjv"
      }
    },
    {
      "cell_type": "markdown",
      "source": [
        "## Capítulo 2: Tipos de Objetos"
      ],
      "metadata": {
        "id": "bZvuXTu062J3"
      }
    },
    {
      "cell_type": "markdown",
      "source": [
        "1. Construya un vector con la primeras 20 letras MAYÚSCULAS usando la función LETTERS."
      ],
      "metadata": {
        "id": "dQoeI4Nx66b9"
      }
    },
    {
      "cell_type": "code",
      "execution_count": 1,
      "metadata": {
        "colab": {
          "base_uri": "https://localhost:8080/",
          "height": 34
        },
        "id": "lpNuU93e6szq",
        "outputId": "b8969554-a354-4190-e34d-2cf05f985722"
      },
      "outputs": [
        {
          "output_type": "display_data",
          "data": {
            "text/html": [
              "<style>\n",
              ".list-inline {list-style: none; margin:0; padding: 0}\n",
              ".list-inline>li {display: inline-block}\n",
              ".list-inline>li:not(:last-child)::after {content: \"\\00b7\"; padding: 0 .5ex}\n",
              "</style>\n",
              "<ol class=list-inline><li>'A'</li><li>'B'</li><li>'C'</li><li>'D'</li><li>'E'</li><li>'F'</li><li>'G'</li><li>'H'</li><li>'I'</li><li>'J'</li><li>'K'</li><li>'L'</li><li>'M'</li><li>'N'</li><li>'O'</li><li>'P'</li><li>'Q'</li><li>'R'</li><li>'S'</li><li>'T'</li></ol>\n"
            ],
            "text/markdown": "1. 'A'\n2. 'B'\n3. 'C'\n4. 'D'\n5. 'E'\n6. 'F'\n7. 'G'\n8. 'H'\n9. 'I'\n10. 'J'\n11. 'K'\n12. 'L'\n13. 'M'\n14. 'N'\n15. 'O'\n16. 'P'\n17. 'Q'\n18. 'R'\n19. 'S'\n20. 'T'\n\n\n",
            "text/latex": "\\begin{enumerate*}\n\\item 'A'\n\\item 'B'\n\\item 'C'\n\\item 'D'\n\\item 'E'\n\\item 'F'\n\\item 'G'\n\\item 'H'\n\\item 'I'\n\\item 'J'\n\\item 'K'\n\\item 'L'\n\\item 'M'\n\\item 'N'\n\\item 'O'\n\\item 'P'\n\\item 'Q'\n\\item 'R'\n\\item 'S'\n\\item 'T'\n\\end{enumerate*}\n",
            "text/plain": [
              " [1] \"A\" \"B\" \"C\" \"D\" \"E\" \"F\" \"G\" \"H\" \"I\" \"J\" \"K\" \"L\" \"M\" \"N\" \"O\" \"P\" \"Q\" \"R\" \"S\"\n",
              "[20] \"T\""
            ]
          },
          "metadata": {}
        }
      ],
      "source": [
        "a <- toupper(c(letters[1:20]))\n",
        "a"
      ]
    },
    {
      "cell_type": "markdown",
      "source": [
        "2. Construya una matriz de 10 x 10 con los primeros 100 números positivos pares.\n"
      ],
      "metadata": {
        "id": "1GDfYI7L7Fsu"
      }
    },
    {
      "cell_type": "code",
      "source": [
        "numpar<- 0 #contador de número pares para la matriz\n",
        "num <- -2   #contador de numeros pares obtenidos\n",
        "hist <- NULL  #vector vacío para almacenar\n",
        "\n",
        "while (numpar < 101){\n",
        "  num <- num + 1\n",
        "  hist[numpar] <- num\n",
        "  if(num %% 2 == 0){\n",
        "    numpar <- numpar + 1\n",
        "  }\n",
        "}\n",
        "\n",
        "A <-matrix(data = hist, nrow=10, ncol=10, byrow=FALSE)\n",
        "A"
      ],
      "metadata": {
        "colab": {
          "base_uri": "https://localhost:8080/",
          "height": 348
        },
        "id": "ex0wuCTl7RIN",
        "outputId": "a061cc32-b26f-4323-d2a8-afa8cd0c9376"
      },
      "execution_count": 4,
      "outputs": [
        {
          "output_type": "display_data",
          "data": {
            "text/html": [
              "<table class=\"dataframe\">\n",
              "<caption>A matrix: 10 × 10 of type dbl</caption>\n",
              "<tbody>\n",
              "\t<tr><td> 2</td><td>22</td><td>42</td><td>62</td><td> 82</td><td>102</td><td>122</td><td>142</td><td>162</td><td>182</td></tr>\n",
              "\t<tr><td> 4</td><td>24</td><td>44</td><td>64</td><td> 84</td><td>104</td><td>124</td><td>144</td><td>164</td><td>184</td></tr>\n",
              "\t<tr><td> 6</td><td>26</td><td>46</td><td>66</td><td> 86</td><td>106</td><td>126</td><td>146</td><td>166</td><td>186</td></tr>\n",
              "\t<tr><td> 8</td><td>28</td><td>48</td><td>68</td><td> 88</td><td>108</td><td>128</td><td>148</td><td>168</td><td>188</td></tr>\n",
              "\t<tr><td>10</td><td>30</td><td>50</td><td>70</td><td> 90</td><td>110</td><td>130</td><td>150</td><td>170</td><td>190</td></tr>\n",
              "\t<tr><td>12</td><td>32</td><td>52</td><td>72</td><td> 92</td><td>112</td><td>132</td><td>152</td><td>172</td><td>192</td></tr>\n",
              "\t<tr><td>14</td><td>34</td><td>54</td><td>74</td><td> 94</td><td>114</td><td>134</td><td>154</td><td>174</td><td>194</td></tr>\n",
              "\t<tr><td>16</td><td>36</td><td>56</td><td>76</td><td> 96</td><td>116</td><td>136</td><td>156</td><td>176</td><td>196</td></tr>\n",
              "\t<tr><td>18</td><td>38</td><td>58</td><td>78</td><td> 98</td><td>118</td><td>138</td><td>158</td><td>178</td><td>198</td></tr>\n",
              "\t<tr><td>20</td><td>40</td><td>60</td><td>80</td><td>100</td><td>120</td><td>140</td><td>160</td><td>180</td><td>200</td></tr>\n",
              "</tbody>\n",
              "</table>\n"
            ],
            "text/markdown": "\nA matrix: 10 × 10 of type dbl\n\n|  2 | 22 | 42 | 62 |  82 | 102 | 122 | 142 | 162 | 182 |\n|  4 | 24 | 44 | 64 |  84 | 104 | 124 | 144 | 164 | 184 |\n|  6 | 26 | 46 | 66 |  86 | 106 | 126 | 146 | 166 | 186 |\n|  8 | 28 | 48 | 68 |  88 | 108 | 128 | 148 | 168 | 188 |\n| 10 | 30 | 50 | 70 |  90 | 110 | 130 | 150 | 170 | 190 |\n| 12 | 32 | 52 | 72 |  92 | 112 | 132 | 152 | 172 | 192 |\n| 14 | 34 | 54 | 74 |  94 | 114 | 134 | 154 | 174 | 194 |\n| 16 | 36 | 56 | 76 |  96 | 116 | 136 | 156 | 176 | 196 |\n| 18 | 38 | 58 | 78 |  98 | 118 | 138 | 158 | 178 | 198 |\n| 20 | 40 | 60 | 80 | 100 | 120 | 140 | 160 | 180 | 200 |\n\n",
            "text/latex": "A matrix: 10 × 10 of type dbl\n\\begin{tabular}{llllllllll}\n\t  2 & 22 & 42 & 62 &  82 & 102 & 122 & 142 & 162 & 182\\\\\n\t  4 & 24 & 44 & 64 &  84 & 104 & 124 & 144 & 164 & 184\\\\\n\t  6 & 26 & 46 & 66 &  86 & 106 & 126 & 146 & 166 & 186\\\\\n\t  8 & 28 & 48 & 68 &  88 & 108 & 128 & 148 & 168 & 188\\\\\n\t 10 & 30 & 50 & 70 &  90 & 110 & 130 & 150 & 170 & 190\\\\\n\t 12 & 32 & 52 & 72 &  92 & 112 & 132 & 152 & 172 & 192\\\\\n\t 14 & 34 & 54 & 74 &  94 & 114 & 134 & 154 & 174 & 194\\\\\n\t 16 & 36 & 56 & 76 &  96 & 116 & 136 & 156 & 176 & 196\\\\\n\t 18 & 38 & 58 & 78 &  98 & 118 & 138 & 158 & 178 & 198\\\\\n\t 20 & 40 & 60 & 80 & 100 & 120 & 140 & 160 & 180 & 200\\\\\n\\end{tabular}\n",
            "text/plain": [
              "      [,1] [,2] [,3] [,4] [,5] [,6] [,7] [,8] [,9] [,10]\n",
              " [1,]  2   22   42   62    82  102  122  142  162  182  \n",
              " [2,]  4   24   44   64    84  104  124  144  164  184  \n",
              " [3,]  6   26   46   66    86  106  126  146  166  186  \n",
              " [4,]  8   28   48   68    88  108  128  148  168  188  \n",
              " [5,] 10   30   50   70    90  110  130  150  170  190  \n",
              " [6,] 12   32   52   72    92  112  132  152  172  192  \n",
              " [7,] 14   34   54   74    94  114  134  154  174  194  \n",
              " [8,] 16   36   56   76    96  116  136  156  176  196  \n",
              " [9,] 18   38   58   78    98  118  138  158  178  198  \n",
              "[10,] 20   40   60   80   100  120  140  160  180  200  "
            ]
          },
          "metadata": {}
        }
      ]
    },
    {
      "cell_type": "markdown",
      "source": [
        "3. Construya una matriz identidad de dimension 3 x 3. Recuerde que una matriz identidad tiene sólo unos en la diagonal principal y los demás elementos son cero."
      ],
      "metadata": {
        "id": "dj6PfsYK8Wft"
      }
    },
    {
      "cell_type": "code",
      "source": [
        "valor<-c(1,0,0,0,1,0,0,0,1) #elementos en la matriz\n",
        "B <- matrix(data = valor, nrow=3, ncol=3, byrow=FALSE)\n",
        "B"
      ],
      "metadata": {
        "colab": {
          "base_uri": "https://localhost:8080/",
          "height": 163
        },
        "id": "BuM6HRaZ8cO0",
        "outputId": "b7bea745-bb00-444b-cd65-26f6abaa81ea"
      },
      "execution_count": 8,
      "outputs": [
        {
          "output_type": "display_data",
          "data": {
            "text/html": [
              "<table class=\"dataframe\">\n",
              "<caption>A matrix: 3 × 3 of type dbl</caption>\n",
              "<tbody>\n",
              "\t<tr><td>1</td><td>0</td><td>0</td></tr>\n",
              "\t<tr><td>0</td><td>1</td><td>0</td></tr>\n",
              "\t<tr><td>0</td><td>0</td><td>1</td></tr>\n",
              "</tbody>\n",
              "</table>\n"
            ],
            "text/markdown": "\nA matrix: 3 × 3 of type dbl\n\n| 1 | 0 | 0 |\n| 0 | 1 | 0 |\n| 0 | 0 | 1 |\n\n",
            "text/latex": "A matrix: 3 × 3 of type dbl\n\\begin{tabular}{lll}\n\t 1 & 0 & 0\\\\\n\t 0 & 1 & 0\\\\\n\t 0 & 0 & 1\\\\\n\\end{tabular}\n",
            "text/plain": [
              "     [,1] [,2] [,3]\n",
              "[1,] 1    0    0   \n",
              "[2,] 0    1    0   \n",
              "[3,] 0    0    1   "
            ]
          },
          "metadata": {}
        }
      ]
    },
    {
      "cell_type": "markdown",
      "source": [
        "4. Construya una lista con los anteriores tres objetos creados."
      ],
      "metadata": {
        "id": "6NqEHMRY8lMK"
      }
    },
    {
      "cell_type": "code",
      "source": [
        "lista <- list(E1 = a, E2 = A, E3 = B)\n",
        "lista"
      ],
      "metadata": {
        "colab": {
          "base_uri": "https://localhost:8080/",
          "height": 591
        },
        "id": "lgeyTd4z8oue",
        "outputId": "d90c7f24-56c2-4bb6-ca91-9a9e62b0fe8b"
      },
      "execution_count": 9,
      "outputs": [
        {
          "output_type": "display_data",
          "data": {
            "text/html": [
              "<dl>\n",
              "\t<dt>$E1</dt>\n",
              "\t\t<dd><style>\n",
              ".list-inline {list-style: none; margin:0; padding: 0}\n",
              ".list-inline>li {display: inline-block}\n",
              ".list-inline>li:not(:last-child)::after {content: \"\\00b7\"; padding: 0 .5ex}\n",
              "</style>\n",
              "<ol class=list-inline><li>'A'</li><li>'B'</li><li>'C'</li><li>'D'</li><li>'E'</li><li>'F'</li><li>'G'</li><li>'H'</li><li>'I'</li><li>'J'</li><li>'K'</li><li>'L'</li><li>'M'</li><li>'N'</li><li>'O'</li><li>'P'</li><li>'Q'</li><li>'R'</li><li>'S'</li><li>'T'</li></ol>\n",
              "</dd>\n",
              "\t<dt>$E2</dt>\n",
              "\t\t<dd><table class=\"dataframe\">\n",
              "<caption>A matrix: 10 × 10 of type dbl</caption>\n",
              "<tbody>\n",
              "\t<tr><td> 2</td><td>22</td><td>42</td><td>62</td><td> 82</td><td>102</td><td>122</td><td>142</td><td>162</td><td>182</td></tr>\n",
              "\t<tr><td> 4</td><td>24</td><td>44</td><td>64</td><td> 84</td><td>104</td><td>124</td><td>144</td><td>164</td><td>184</td></tr>\n",
              "\t<tr><td> 6</td><td>26</td><td>46</td><td>66</td><td> 86</td><td>106</td><td>126</td><td>146</td><td>166</td><td>186</td></tr>\n",
              "\t<tr><td> 8</td><td>28</td><td>48</td><td>68</td><td> 88</td><td>108</td><td>128</td><td>148</td><td>168</td><td>188</td></tr>\n",
              "\t<tr><td>10</td><td>30</td><td>50</td><td>70</td><td> 90</td><td>110</td><td>130</td><td>150</td><td>170</td><td>190</td></tr>\n",
              "\t<tr><td>12</td><td>32</td><td>52</td><td>72</td><td> 92</td><td>112</td><td>132</td><td>152</td><td>172</td><td>192</td></tr>\n",
              "\t<tr><td>14</td><td>34</td><td>54</td><td>74</td><td> 94</td><td>114</td><td>134</td><td>154</td><td>174</td><td>194</td></tr>\n",
              "\t<tr><td>16</td><td>36</td><td>56</td><td>76</td><td> 96</td><td>116</td><td>136</td><td>156</td><td>176</td><td>196</td></tr>\n",
              "\t<tr><td>18</td><td>38</td><td>58</td><td>78</td><td> 98</td><td>118</td><td>138</td><td>158</td><td>178</td><td>198</td></tr>\n",
              "\t<tr><td>20</td><td>40</td><td>60</td><td>80</td><td>100</td><td>120</td><td>140</td><td>160</td><td>180</td><td>200</td></tr>\n",
              "</tbody>\n",
              "</table>\n",
              "</dd>\n",
              "\t<dt>$E3</dt>\n",
              "\t\t<dd><table class=\"dataframe\">\n",
              "<caption>A matrix: 3 × 3 of type dbl</caption>\n",
              "<tbody>\n",
              "\t<tr><td>1</td><td>0</td><td>0</td></tr>\n",
              "\t<tr><td>0</td><td>1</td><td>0</td></tr>\n",
              "\t<tr><td>0</td><td>0</td><td>1</td></tr>\n",
              "</tbody>\n",
              "</table>\n",
              "</dd>\n",
              "</dl>\n"
            ],
            "text/markdown": "$E1\n:   1. 'A'\n2. 'B'\n3. 'C'\n4. 'D'\n5. 'E'\n6. 'F'\n7. 'G'\n8. 'H'\n9. 'I'\n10. 'J'\n11. 'K'\n12. 'L'\n13. 'M'\n14. 'N'\n15. 'O'\n16. 'P'\n17. 'Q'\n18. 'R'\n19. 'S'\n20. 'T'\n\n\n\n$E2\n:   \nA matrix: 10 × 10 of type dbl\n\n|  2 | 22 | 42 | 62 |  82 | 102 | 122 | 142 | 162 | 182 |\n|  4 | 24 | 44 | 64 |  84 | 104 | 124 | 144 | 164 | 184 |\n|  6 | 26 | 46 | 66 |  86 | 106 | 126 | 146 | 166 | 186 |\n|  8 | 28 | 48 | 68 |  88 | 108 | 128 | 148 | 168 | 188 |\n| 10 | 30 | 50 | 70 |  90 | 110 | 130 | 150 | 170 | 190 |\n| 12 | 32 | 52 | 72 |  92 | 112 | 132 | 152 | 172 | 192 |\n| 14 | 34 | 54 | 74 |  94 | 114 | 134 | 154 | 174 | 194 |\n| 16 | 36 | 56 | 76 |  96 | 116 | 136 | 156 | 176 | 196 |\n| 18 | 38 | 58 | 78 |  98 | 118 | 138 | 158 | 178 | 198 |\n| 20 | 40 | 60 | 80 | 100 | 120 | 140 | 160 | 180 | 200 |\n\n\n$E3\n:   \nA matrix: 3 × 3 of type dbl\n\n| 1 | 0 | 0 |\n| 0 | 1 | 0 |\n| 0 | 0 | 1 |\n\n\n\n\n",
            "text/latex": "\\begin{description}\n\\item[\\$E1] \\begin{enumerate*}\n\\item 'A'\n\\item 'B'\n\\item 'C'\n\\item 'D'\n\\item 'E'\n\\item 'F'\n\\item 'G'\n\\item 'H'\n\\item 'I'\n\\item 'J'\n\\item 'K'\n\\item 'L'\n\\item 'M'\n\\item 'N'\n\\item 'O'\n\\item 'P'\n\\item 'Q'\n\\item 'R'\n\\item 'S'\n\\item 'T'\n\\end{enumerate*}\n\n\\item[\\$E2] A matrix: 10 × 10 of type dbl\n\\begin{tabular}{llllllllll}\n\t  2 & 22 & 42 & 62 &  82 & 102 & 122 & 142 & 162 & 182\\\\\n\t  4 & 24 & 44 & 64 &  84 & 104 & 124 & 144 & 164 & 184\\\\\n\t  6 & 26 & 46 & 66 &  86 & 106 & 126 & 146 & 166 & 186\\\\\n\t  8 & 28 & 48 & 68 &  88 & 108 & 128 & 148 & 168 & 188\\\\\n\t 10 & 30 & 50 & 70 &  90 & 110 & 130 & 150 & 170 & 190\\\\\n\t 12 & 32 & 52 & 72 &  92 & 112 & 132 & 152 & 172 & 192\\\\\n\t 14 & 34 & 54 & 74 &  94 & 114 & 134 & 154 & 174 & 194\\\\\n\t 16 & 36 & 56 & 76 &  96 & 116 & 136 & 156 & 176 & 196\\\\\n\t 18 & 38 & 58 & 78 &  98 & 118 & 138 & 158 & 178 & 198\\\\\n\t 20 & 40 & 60 & 80 & 100 & 120 & 140 & 160 & 180 & 200\\\\\n\\end{tabular}\n\n\\item[\\$E3] A matrix: 3 × 3 of type dbl\n\\begin{tabular}{lll}\n\t 1 & 0 & 0\\\\\n\t 0 & 1 & 0\\\\\n\t 0 & 0 & 1\\\\\n\\end{tabular}\n\n\\end{description}\n",
            "text/plain": [
              "$E1\n",
              " [1] \"A\" \"B\" \"C\" \"D\" \"E\" \"F\" \"G\" \"H\" \"I\" \"J\" \"K\" \"L\" \"M\" \"N\" \"O\" \"P\" \"Q\" \"R\" \"S\"\n",
              "[20] \"T\"\n",
              "\n",
              "$E2\n",
              "      [,1] [,2] [,3] [,4] [,5] [,6] [,7] [,8] [,9] [,10]\n",
              " [1,]    2   22   42   62   82  102  122  142  162   182\n",
              " [2,]    4   24   44   64   84  104  124  144  164   184\n",
              " [3,]    6   26   46   66   86  106  126  146  166   186\n",
              " [4,]    8   28   48   68   88  108  128  148  168   188\n",
              " [5,]   10   30   50   70   90  110  130  150  170   190\n",
              " [6,]   12   32   52   72   92  112  132  152  172   192\n",
              " [7,]   14   34   54   74   94  114  134  154  174   194\n",
              " [8,]   16   36   56   76   96  116  136  156  176   196\n",
              " [9,]   18   38   58   78   98  118  138  158  178   198\n",
              "[10,]   20   40   60   80  100  120  140  160  180   200\n",
              "\n",
              "$E3\n",
              "     [,1] [,2] [,3]\n",
              "[1,]    1    0    0\n",
              "[2,]    0    1    0\n",
              "[3,]    0    0    1\n"
            ]
          },
          "metadata": {}
        }
      ]
    },
    {
      "cell_type": "markdown",
      "source": [
        "5. Construya un marco de datos o data frame con las respuestas de 3 personas a las preguntas:\n",
        "(a) ¿Cuál es su edad en años?\n",
        "(b) ¿Tipo de música que más le gusta? (c) ¿Tiene usted pareja sentimental estable?"
      ],
      "metadata": {
        "id": "3ALLIIOW8vce"
      }
    },
    {
      "cell_type": "code",
      "source": [
        "edad <- c(10, 15, 21)\n",
        "musicafav <-c('pop', 'rock', 'clasica')\n",
        "pareja <- c('TRUE','FALSE', 'TRUE')\n",
        "C <- data.frame(edad, musicafav, pareja)\n",
        "C"
      ],
      "metadata": {
        "colab": {
          "base_uri": "https://localhost:8080/",
          "height": 192
        },
        "id": "0ks4v3QQ82Jo",
        "outputId": "14700a05-cb7b-488d-d5f0-d121b324da73"
      },
      "execution_count": 11,
      "outputs": [
        {
          "output_type": "display_data",
          "data": {
            "text/html": [
              "<table class=\"dataframe\">\n",
              "<caption>A data.frame: 3 × 3</caption>\n",
              "<thead>\n",
              "\t<tr><th scope=col>edad</th><th scope=col>musicafav</th><th scope=col>pareja</th></tr>\n",
              "\t<tr><th scope=col>&lt;dbl&gt;</th><th scope=col>&lt;chr&gt;</th><th scope=col>&lt;chr&gt;</th></tr>\n",
              "</thead>\n",
              "<tbody>\n",
              "\t<tr><td>10</td><td>pop    </td><td>TRUE </td></tr>\n",
              "\t<tr><td>15</td><td>rock   </td><td>FALSE</td></tr>\n",
              "\t<tr><td>21</td><td>clasica</td><td>TRUE </td></tr>\n",
              "</tbody>\n",
              "</table>\n"
            ],
            "text/markdown": "\nA data.frame: 3 × 3\n\n| edad &lt;dbl&gt; | musicafav &lt;chr&gt; | pareja &lt;chr&gt; |\n|---|---|---|\n| 10 | pop     | TRUE  |\n| 15 | rock    | FALSE |\n| 21 | clasica | TRUE  |\n\n",
            "text/latex": "A data.frame: 3 × 3\n\\begin{tabular}{lll}\n edad & musicafav & pareja\\\\\n <dbl> & <chr> & <chr>\\\\\n\\hline\n\t 10 & pop     & TRUE \\\\\n\t 15 & rock    & FALSE\\\\\n\t 21 & clasica & TRUE \\\\\n\\end{tabular}\n",
            "text/plain": [
              "  edad musicafav pareja\n",
              "1 10   pop       TRUE  \n",
              "2 15   rock      FALSE \n",
              "3 21   clasica   TRUE  "
            ]
          },
          "metadata": {}
        }
      ]
    },
    {
      "cell_type": "markdown",
      "source": [
        "6. ¿Cuál es el error al correr el siguiente código? ¿A qué se debe?"
      ],
      "metadata": {
        "id": "xYEFtIJb89Be"
      }
    },
    {
      "cell_type": "code",
      "source": [
        "edad <- c(15, 19, 13, NA, 20)\n",
        "deporte <- c(TRUE, TRUE, NA, FALSE, TRUE)\n",
        "comic_fav <- c(NA, 'Superman', 'Batman', NA, 'Batman')\n",
        "matrix(edad, deporte, comic_fav)"
      ],
      "metadata": {
        "colab": {
          "base_uri": "https://localhost:8080/",
          "height": 131
        },
        "id": "V_LsBo4z9BoD",
        "outputId": "48b31ef1-cbe9-48b8-c63e-3b298d78411c"
      },
      "execution_count": null,
      "outputs": [
        {
          "output_type": "error",
          "ename": "ERROR",
          "evalue": "ignored",
          "traceback": [
            "Error in matrix(edad, deporte, comic_fav): non-numeric matrix extent\nTraceback:\n",
            "1. matrix(edad, deporte, comic_fav)"
          ]
        }
      ]
    },
    {
      "cell_type": "markdown",
      "source": [
        "El error está en que los elementos de la matriz no son todos del mismo tipo (numéricos)."
      ],
      "metadata": {
        "id": "gTZPsm3IofOe"
      }
    },
    {
      "cell_type": "markdown",
      "source": [
        "## Capítulo 5: Funciones básicas de R"
      ],
      "metadata": {
        "id": "T0abRx_6o0W7"
      }
    },
    {
      "cell_type": "markdown",
      "source": [
        "1. ¿Qué cantidad de dinero sobra al repartir $10000 entre 3 personas?"
      ],
      "metadata": {
        "id": "EECOuQe4pHbv"
      }
    },
    {
      "cell_type": "code",
      "source": [
        "x <- 10000%%3\n",
        "x"
      ],
      "metadata": {
        "colab": {
          "base_uri": "https://localhost:8080/",
          "height": 34
        },
        "id": "ZbP1qrYTqpIQ",
        "outputId": "801829f8-a890-4068-c26a-2893c7403013"
      },
      "execution_count": 12,
      "outputs": [
        {
          "output_type": "display_data",
          "data": {
            "text/html": [
              "1"
            ],
            "text/markdown": "1",
            "text/latex": "1",
            "text/plain": [
              "[1] 1"
            ]
          },
          "metadata": {}
        }
      ]
    },
    {
      "cell_type": "markdown",
      "source": [
        "2. ¿Es el número 4560 divisible por 3?"
      ],
      "metadata": {
        "id": "NQ8JMPHwpLJT"
      }
    },
    {
      "cell_type": "code",
      "source": [
        "ifelse(4560%%3 == 0, 'Es divisible por 3', 'No es divisible por 3')"
      ],
      "metadata": {
        "colab": {
          "base_uri": "https://localhost:8080/",
          "height": 34
        },
        "id": "8MxTJMhsq82v",
        "outputId": "0809888a-3519-430e-bc2f-489451b92cd7"
      },
      "execution_count": 14,
      "outputs": [
        {
          "output_type": "display_data",
          "data": {
            "text/html": [
              "'Es divisible por 3'"
            ],
            "text/markdown": "'Es divisible por 3'",
            "text/latex": "'Es divisible por 3'",
            "text/plain": [
              "[1] \"Es divisible por 3\""
            ]
          },
          "metadata": {}
        }
      ]
    },
    {
      "cell_type": "markdown",
      "source": [
        "3. Construya un vector con los números enteros del 2 al 87. ¿Cuáles de esos números son divisibles por 7?"
      ],
      "metadata": {
        "id": "FywyyAlOpLhv"
      }
    },
    {
      "cell_type": "code",
      "source": [
        "z <- c(2:87)\n",
        "z <- z[z%%7==0]\n",
        "z"
      ],
      "metadata": {
        "colab": {
          "base_uri": "https://localhost:8080/",
          "height": 34
        },
        "id": "U-H6tGb3rghm",
        "outputId": "c45ecac9-ff30-47b8-9a07-d94363abc33c"
      },
      "execution_count": 17,
      "outputs": [
        {
          "output_type": "display_data",
          "data": {
            "text/html": [
              "<style>\n",
              ".list-inline {list-style: none; margin:0; padding: 0}\n",
              ".list-inline>li {display: inline-block}\n",
              ".list-inline>li:not(:last-child)::after {content: \"\\00b7\"; padding: 0 .5ex}\n",
              "</style>\n",
              "<ol class=list-inline><li>7</li><li>14</li><li>21</li><li>28</li><li>35</li><li>42</li><li>49</li><li>56</li><li>63</li><li>70</li><li>77</li><li>84</li></ol>\n"
            ],
            "text/markdown": "1. 7\n2. 14\n3. 21\n4. 28\n5. 35\n6. 42\n7. 49\n8. 56\n9. 63\n10. 70\n11. 77\n12. 84\n\n\n",
            "text/latex": "\\begin{enumerate*}\n\\item 7\n\\item 14\n\\item 21\n\\item 28\n\\item 35\n\\item 42\n\\item 49\n\\item 56\n\\item 63\n\\item 70\n\\item 77\n\\item 84\n\\end{enumerate*}\n",
            "text/plain": [
              " [1]  7 14 21 28 35 42 49 56 63 70 77 84"
            ]
          },
          "metadata": {}
        }
      ]
    },
    {
      "cell_type": "markdown",
      "source": [
        "4. Construya dos vectores, el primero con los números enteros desde 7 hasta 3, el segundo vector con los primeros cinco números positivos divisibles por 5. Sea A la condición de ser par en el primer vector. Sea B la condición de ser mayor que 10 en el segundo vector. ¿En cuál de las 5 posiciones se cumple A y B simultáneamente?"
      ],
      "metadata": {
        "id": "GBOGm2eRpPPB"
      }
    },
    {
      "cell_type": "code",
      "source": [
        "A <- c(7:3)\n",
        "cont1 <- 0\n",
        "num.div <- 1 #números divisibles por 5\n",
        "hist <- NULL #vector vacio para almacenar\n",
        "while (num.div < 6){\n",
        "  cont1 <- cont1 + 1\n",
        "  hist[num.div] <- cont1\n",
        "  if(cont1 %% 5 == 0){\n",
        "    num.div <- num.div + 1\n",
        "  }\n",
        "}\n",
        "B <- c(hist)\n",
        "\n",
        "Ambos <- c(ifelse(A %% 2 == 0 & B > 10 , rank(-A), '' ))\n",
        "print('la posición ')\n",
        "Ambos[Ambos== rank(-A)]"
      ],
      "metadata": {
        "colab": {
          "base_uri": "https://localhost:8080/",
          "height": 52
        },
        "id": "J8YvRYxjryRv",
        "outputId": "a859bace-ccf3-445f-970f-972912c2176e"
      },
      "execution_count": 20,
      "outputs": [
        {
          "output_type": "stream",
          "name": "stdout",
          "text": [
            "[1] \"la posición \"\n"
          ]
        },
        {
          "output_type": "display_data",
          "data": {
            "text/html": [
              "'4'"
            ],
            "text/markdown": "'4'",
            "text/latex": "'4'",
            "text/plain": [
              "[1] \"4\""
            ]
          },
          "metadata": {}
        }
      ]
    },
    {
      "cell_type": "markdown",
      "source": [
        "5. Consulte este enlace en el cual hay una anéctoda de Gauss niño. Use R para obtener el resultado de la suma solicitada por el profesor del niño Gauss."
      ],
      "metadata": {
        "id": "FsSAQ-2FpSPw"
      }
    },
    {
      "cell_type": "code",
      "source": [
        "sum(1:100)"
      ],
      "metadata": {
        "colab": {
          "base_uri": "https://localhost:8080/",
          "height": 34
        },
        "id": "myUeOyADselU",
        "outputId": "b9baaeb5-fd1c-4656-f297-c2055b4aec79"
      },
      "execution_count": 21,
      "outputs": [
        {
          "output_type": "display_data",
          "data": {
            "text/html": [
              "5050"
            ],
            "text/markdown": "5050",
            "text/latex": "5050",
            "text/plain": [
              "[1] 5050"
            ]
          },
          "metadata": {}
        }
      ]
    },
    {
      "cell_type": "markdown",
      "source": [
        "6. Construya un vector con los siguientes elementos: 1, -4, 5, 9, -4. Escriba un procedimiento para extraer las posiciones donde está el valor mínimo en el vector."
      ],
      "metadata": {
        "id": "kUmTbAOnpUjy"
      }
    },
    {
      "cell_type": "code",
      "source": [
        "C <- c(1, -4, 5, 9, -4)\n",
        "which(C == min(C))"
      ],
      "metadata": {
        "colab": {
          "base_uri": "https://localhost:8080/",
          "height": 34
        },
        "id": "e0GERRtHsiPF",
        "outputId": "4c8d376b-dfd3-4940-91e2-55d5315e47df"
      },
      "execution_count": 22,
      "outputs": [
        {
          "output_type": "display_data",
          "data": {
            "text/html": [
              "<style>\n",
              ".list-inline {list-style: none; margin:0; padding: 0}\n",
              ".list-inline>li {display: inline-block}\n",
              ".list-inline>li:not(:last-child)::after {content: \"\\00b7\"; padding: 0 .5ex}\n",
              "</style>\n",
              "<ol class=list-inline><li>2</li><li>5</li></ol>\n"
            ],
            "text/markdown": "1. 2\n2. 5\n\n\n",
            "text/latex": "\\begin{enumerate*}\n\\item 2\n\\item 5\n\\end{enumerate*}\n",
            "text/plain": [
              "[1] 2 5"
            ]
          },
          "metadata": {}
        }
      ]
    },
    {
      "cell_type": "markdown",
      "source": [
        "7. Calcular 8!"
      ],
      "metadata": {
        "id": "aHxuU2_4pXSL"
      }
    },
    {
      "cell_type": "code",
      "source": [
        "prod(1:8)"
      ],
      "metadata": {
        "colab": {
          "base_uri": "https://localhost:8080/",
          "height": 34
        },
        "id": "hO5_hfnFsrJX",
        "outputId": "47195109-cf43-4054-cd59-2f4a9e948a52"
      },
      "execution_count": 23,
      "outputs": [
        {
          "output_type": "display_data",
          "data": {
            "text/html": [
              "40320"
            ],
            "text/markdown": "40320",
            "text/latex": "40320",
            "text/plain": [
              "[1] 40320"
            ]
          },
          "metadata": {}
        }
      ]
    },
    {
      "cell_type": "markdown",
      "source": [
        "8. Evaluar la suma ![ej 7.png](data:image/png;base64,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)"
      ],
      "metadata": {
        "id": "2SjB1cXzpZ55"
      }
    },
    {
      "cell_type": "code",
      "source": [
        "x <- 0\n",
        "for(i in 3:7){\n",
        "  x <- x + exp(i)\n",
        "}\n",
        "x"
      ],
      "metadata": {
        "colab": {
          "base_uri": "https://localhost:8080/",
          "height": 34
        },
        "id": "51CdeSd-suN4",
        "outputId": "f711cfbb-dd68-442f-9f40-d119fd854931"
      },
      "execution_count": 24,
      "outputs": [
        {
          "output_type": "display_data",
          "data": {
            "text/html": [
              "1723.1587979801"
            ],
            "text/markdown": "1723.1587979801",
            "text/latex": "1723.1587979801",
            "text/plain": [
              "[1] 1723.159"
            ]
          },
          "metadata": {}
        }
      ]
    },
    {
      "cell_type": "markdown",
      "source": [
        "9. Evaluar la siguiente productoria: ![cap 5 ej 9.png](data:image/png;base64,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)"
      ],
      "metadata": {
        "id": "l9aIqbZ-pd8z"
      }
    },
    {
      "cell_type": "code",
      "source": [
        "x <- 1\n",
        "for(i in 1:10){\n",
        "  x <- x*log(sqrt(i))\n",
        "}\n",
        "x"
      ],
      "metadata": {
        "colab": {
          "base_uri": "https://localhost:8080/",
          "height": 34
        },
        "id": "KetbHzBLs1Vo",
        "outputId": "3af5c77d-5591-45cd-88c7-20d51a0ba06d"
      },
      "execution_count": 25,
      "outputs": [
        {
          "output_type": "display_data",
          "data": {
            "text/html": [
              "0"
            ],
            "text/markdown": "0",
            "text/latex": "0",
            "text/plain": [
              "[1] 0"
            ]
          },
          "metadata": {}
        }
      ]
    },
    {
      "cell_type": "markdown",
      "source": [
        "10. Construya un vector cualquiera e inviertalo, es decir, que el primer elemento quede de último, el segundo de penúltimo y así sucesivamente. Compare su resultado con el de la función rev."
      ],
      "metadata": {
        "id": "Wd2X0sJZpllm"
      }
    },
    {
      "cell_type": "code",
      "source": [
        "x <- c(1, 2, 3, 4, 5)\n",
        "lon <- length(x)\n",
        "\n",
        "for (i in lon:1){\n",
        "  ind <- lon - (lon - i)\n",
        "  inv <- c(x[ind])\n",
        "  print(inv)\n",
        "}\n",
        "\n",
        "\n",
        "rev(x)"
      ],
      "metadata": {
        "colab": {
          "base_uri": "https://localhost:8080/",
          "height": 121
        },
        "id": "6enr9zIps-du",
        "outputId": "8dc13752-23dd-469e-9da1-f0f3714bc748"
      },
      "execution_count": 29,
      "outputs": [
        {
          "output_type": "stream",
          "name": "stdout",
          "text": [
            "[1] 5\n",
            "[1] 4\n",
            "[1] 3\n",
            "[1] 2\n",
            "[1] 1\n"
          ]
        },
        {
          "output_type": "display_data",
          "data": {
            "text/html": [
              "<style>\n",
              ".list-inline {list-style: none; margin:0; padding: 0}\n",
              ".list-inline>li {display: inline-block}\n",
              ".list-inline>li:not(:last-child)::after {content: \"\\00b7\"; padding: 0 .5ex}\n",
              "</style>\n",
              "<ol class=list-inline><li>5</li><li>4</li><li>3</li><li>2</li><li>1</li></ol>\n"
            ],
            "text/markdown": "1. 5\n2. 4\n3. 3\n4. 2\n5. 1\n\n\n",
            "text/latex": "\\begin{enumerate*}\n\\item 5\n\\item 4\n\\item 3\n\\item 2\n\\item 1\n\\end{enumerate*}\n",
            "text/plain": [
              "[1] 5 4 3 2 1"
            ]
          },
          "metadata": {}
        }
      ]
    },
    {
      "cell_type": "markdown",
      "source": [
        "11. Create the vector:  1, 2, 3, ..., 19, 20"
      ],
      "metadata": {
        "id": "VUu89BICpqn-"
      }
    },
    {
      "cell_type": "code",
      "source": [
        "x <- c(1:20)\n",
        "x"
      ],
      "metadata": {
        "colab": {
          "base_uri": "https://localhost:8080/",
          "height": 34
        },
        "id": "Qd0CxhsmtRa9",
        "outputId": "af23576b-35cf-4f96-8f55-3e3c13417922"
      },
      "execution_count": 30,
      "outputs": [
        {
          "output_type": "display_data",
          "data": {
            "text/html": [
              "<style>\n",
              ".list-inline {list-style: none; margin:0; padding: 0}\n",
              ".list-inline>li {display: inline-block}\n",
              ".list-inline>li:not(:last-child)::after {content: \"\\00b7\"; padding: 0 .5ex}\n",
              "</style>\n",
              "<ol class=list-inline><li>1</li><li>2</li><li>3</li><li>4</li><li>5</li><li>6</li><li>7</li><li>8</li><li>9</li><li>10</li><li>11</li><li>12</li><li>13</li><li>14</li><li>15</li><li>16</li><li>17</li><li>18</li><li>19</li><li>20</li></ol>\n"
            ],
            "text/markdown": "1. 1\n2. 2\n3. 3\n4. 4\n5. 5\n6. 6\n7. 7\n8. 8\n9. 9\n10. 10\n11. 11\n12. 12\n13. 13\n14. 14\n15. 15\n16. 16\n17. 17\n18. 18\n19. 19\n20. 20\n\n\n",
            "text/latex": "\\begin{enumerate*}\n\\item 1\n\\item 2\n\\item 3\n\\item 4\n\\item 5\n\\item 6\n\\item 7\n\\item 8\n\\item 9\n\\item 10\n\\item 11\n\\item 12\n\\item 13\n\\item 14\n\\item 15\n\\item 16\n\\item 17\n\\item 18\n\\item 19\n\\item 20\n\\end{enumerate*}\n",
            "text/plain": [
              " [1]  1  2  3  4  5  6  7  8  9 10 11 12 13 14 15 16 17 18 19 20"
            ]
          },
          "metadata": {}
        }
      ]
    },
    {
      "cell_type": "markdown",
      "source": [
        "12. Create the vector: 20, 19, ..., 2, 1"
      ],
      "metadata": {
        "id": "l5Q21EK6puse"
      }
    },
    {
      "cell_type": "code",
      "source": [
        "x <- c(20:1)\n",
        "x"
      ],
      "metadata": {
        "colab": {
          "base_uri": "https://localhost:8080/",
          "height": 34
        },
        "id": "xYQnP2NQtVlx",
        "outputId": "6109e755-e880-486a-b2c4-8b71c8122dba"
      },
      "execution_count": 31,
      "outputs": [
        {
          "output_type": "display_data",
          "data": {
            "text/html": [
              "<style>\n",
              ".list-inline {list-style: none; margin:0; padding: 0}\n",
              ".list-inline>li {display: inline-block}\n",
              ".list-inline>li:not(:last-child)::after {content: \"\\00b7\"; padding: 0 .5ex}\n",
              "</style>\n",
              "<ol class=list-inline><li>20</li><li>19</li><li>18</li><li>17</li><li>16</li><li>15</li><li>14</li><li>13</li><li>12</li><li>11</li><li>10</li><li>9</li><li>8</li><li>7</li><li>6</li><li>5</li><li>4</li><li>3</li><li>2</li><li>1</li></ol>\n"
            ],
            "text/markdown": "1. 20\n2. 19\n3. 18\n4. 17\n5. 16\n6. 15\n7. 14\n8. 13\n9. 12\n10. 11\n11. 10\n12. 9\n13. 8\n14. 7\n15. 6\n16. 5\n17. 4\n18. 3\n19. 2\n20. 1\n\n\n",
            "text/latex": "\\begin{enumerate*}\n\\item 20\n\\item 19\n\\item 18\n\\item 17\n\\item 16\n\\item 15\n\\item 14\n\\item 13\n\\item 12\n\\item 11\n\\item 10\n\\item 9\n\\item 8\n\\item 7\n\\item 6\n\\item 5\n\\item 4\n\\item 3\n\\item 2\n\\item 1\n\\end{enumerate*}\n",
            "text/plain": [
              " [1] 20 19 18 17 16 15 14 13 12 11 10  9  8  7  6  5  4  3  2  1"
            ]
          },
          "metadata": {}
        }
      ]
    },
    {
      "cell_type": "markdown",
      "source": [
        "13. Create the vector: 1, -2, 3, -4, 5, -6, ..., 19, -20"
      ],
      "metadata": {
        "id": "gD8K6R1Mp1Fn"
      }
    },
    {
      "cell_type": "code",
      "source": [
        "y <- c(1:20)\n",
        "y1 <- ifelse(y %% 2 == 0, y * -1, y)\n",
        "y1"
      ],
      "metadata": {
        "colab": {
          "base_uri": "https://localhost:8080/",
          "height": 34
        },
        "id": "1wd3-gVmtaGe",
        "outputId": "009552e7-da38-4f43-fbbf-cf4dec6ce9b8"
      },
      "execution_count": 32,
      "outputs": [
        {
          "output_type": "display_data",
          "data": {
            "text/html": [
              "<style>\n",
              ".list-inline {list-style: none; margin:0; padding: 0}\n",
              ".list-inline>li {display: inline-block}\n",
              ".list-inline>li:not(:last-child)::after {content: \"\\00b7\"; padding: 0 .5ex}\n",
              "</style>\n",
              "<ol class=list-inline><li>1</li><li>-2</li><li>3</li><li>-4</li><li>5</li><li>-6</li><li>7</li><li>-8</li><li>9</li><li>-10</li><li>11</li><li>-12</li><li>13</li><li>-14</li><li>15</li><li>-16</li><li>17</li><li>-18</li><li>19</li><li>-20</li></ol>\n"
            ],
            "text/markdown": "1. 1\n2. -2\n3. 3\n4. -4\n5. 5\n6. -6\n7. 7\n8. -8\n9. 9\n10. -10\n11. 11\n12. -12\n13. 13\n14. -14\n15. 15\n16. -16\n17. 17\n18. -18\n19. 19\n20. -20\n\n\n",
            "text/latex": "\\begin{enumerate*}\n\\item 1\n\\item -2\n\\item 3\n\\item -4\n\\item 5\n\\item -6\n\\item 7\n\\item -8\n\\item 9\n\\item -10\n\\item 11\n\\item -12\n\\item 13\n\\item -14\n\\item 15\n\\item -16\n\\item 17\n\\item -18\n\\item 19\n\\item -20\n\\end{enumerate*}\n",
            "text/plain": [
              " [1]   1  -2   3  -4   5  -6   7  -8   9 -10  11 -12  13 -14  15 -16  17 -18  19\n",
              "[20] -20"
            ]
          },
          "metadata": {}
        }
      ]
    },
    {
      "cell_type": "markdown",
      "source": [
        "14. Create the vector: 0.1^3, 0.2^1, 0.1^6, 0.2^4, ..., 0.1^36, 02^34"
      ],
      "metadata": {
        "id": "E5IBbSPKp5sa"
      }
    },
    {
      "cell_type": "code",
      "source": [
        "z <- rep(x=c(0.1,0.2), len=24)\n",
        "z"
      ],
      "metadata": {
        "colab": {
          "base_uri": "https://localhost:8080/",
          "height": 52
        },
        "id": "Nykihm4itlGN",
        "outputId": "1572ceb9-15f7-4fe2-c312-d624e67a237d"
      },
      "execution_count": 33,
      "outputs": [
        {
          "output_type": "display_data",
          "data": {
            "text/html": [
              "<style>\n",
              ".list-inline {list-style: none; margin:0; padding: 0}\n",
              ".list-inline>li {display: inline-block}\n",
              ".list-inline>li:not(:last-child)::after {content: \"\\00b7\"; padding: 0 .5ex}\n",
              "</style>\n",
              "<ol class=list-inline><li>0.1</li><li>0.2</li><li>0.1</li><li>0.2</li><li>0.1</li><li>0.2</li><li>0.1</li><li>0.2</li><li>0.1</li><li>0.2</li><li>0.1</li><li>0.2</li><li>0.1</li><li>0.2</li><li>0.1</li><li>0.2</li><li>0.1</li><li>0.2</li><li>0.1</li><li>0.2</li><li>0.1</li><li>0.2</li><li>0.1</li><li>0.2</li></ol>\n"
            ],
            "text/markdown": "1. 0.1\n2. 0.2\n3. 0.1\n4. 0.2\n5. 0.1\n6. 0.2\n7. 0.1\n8. 0.2\n9. 0.1\n10. 0.2\n11. 0.1\n12. 0.2\n13. 0.1\n14. 0.2\n15. 0.1\n16. 0.2\n17. 0.1\n18. 0.2\n19. 0.1\n20. 0.2\n21. 0.1\n22. 0.2\n23. 0.1\n24. 0.2\n\n\n",
            "text/latex": "\\begin{enumerate*}\n\\item 0.1\n\\item 0.2\n\\item 0.1\n\\item 0.2\n\\item 0.1\n\\item 0.2\n\\item 0.1\n\\item 0.2\n\\item 0.1\n\\item 0.2\n\\item 0.1\n\\item 0.2\n\\item 0.1\n\\item 0.2\n\\item 0.1\n\\item 0.2\n\\item 0.1\n\\item 0.2\n\\item 0.1\n\\item 0.2\n\\item 0.1\n\\item 0.2\n\\item 0.1\n\\item 0.2\n\\end{enumerate*}\n",
            "text/plain": [
              " [1] 0.1 0.2 0.1 0.2 0.1 0.2 0.1 0.2 0.1 0.2 0.1 0.2 0.1 0.2 0.1 0.2 0.1 0.2 0.1\n",
              "[20] 0.2 0.1 0.2 0.1 0.2"
            ]
          },
          "metadata": {}
        }
      ]
    },
    {
      "cell_type": "markdown",
      "source": [
        "15. Calcule lo siguiente: ![cap 5 ej 15.png](data:image/png;base64,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)"
      ],
      "metadata": {
        "id": "RIKMr7q8qFN3"
      }
    },
    {
      "cell_type": "code",
      "source": [
        "y <- 0\n",
        "for(i in 10:100){\n",
        "  y <- y + i^3 + (4*i^2)\n",
        "}\n",
        "y"
      ],
      "metadata": {
        "colab": {
          "base_uri": "https://localhost:8080/",
          "height": 34
        },
        "id": "hb7WWB3EtvPC",
        "outputId": "321e713a-eda0-4ec6-e5d6-669d41588736"
      },
      "execution_count": 34,
      "outputs": [
        {
          "output_type": "display_data",
          "data": {
            "text/html": [
              "26852735"
            ],
            "text/markdown": "26852735",
            "text/latex": "26852735",
            "text/plain": [
              "[1] 26852735"
            ]
          },
          "metadata": {}
        }
      ]
    },
    {
      "cell_type": "code",
      "source": [
        "y1 <- 0\n",
        "for(i in 1:25){\n",
        "  y1 <- y1+ ((2^i/i) + (3^i/i^2))\n",
        "}\n",
        "y1"
      ],
      "metadata": {
        "colab": {
          "base_uri": "https://localhost:8080/",
          "height": 34
        },
        "id": "ltv5SIsutz5d",
        "outputId": "d4c2ff12-7362-44e3-da9b-3312776cade8"
      },
      "execution_count": 36,
      "outputs": [
        {
          "output_type": "display_data",
          "data": {
            "text/html": [
              "2129170436.81438"
            ],
            "text/markdown": "2129170436.81438",
            "text/latex": "2129170436.81438",
            "text/plain": [
              "[1] 2129170437"
            ]
          },
          "metadata": {}
        }
      ]
    },
    {
      "cell_type": "markdown",
      "source": [
        "En R hay unas bases de datos incluídas, una de ellas es la base de datos llamada mtcars. Para conocer las variables que están en mtcars usted puede escribir en la consola ?mtcars o también help(mtcars). De la base mtcars obtenga bases de datos que cumplan las siguientes condiciones."
      ],
      "metadata": {
        "id": "XDJOxRGZqGMt"
      }
    },
    {
      "cell_type": "code",
      "source": [
        "help(mtcars)"
      ],
      "metadata": {
        "id": "bEDe8uqot-bt"
      },
      "execution_count": 37,
      "outputs": []
    },
    {
      "cell_type": "markdown",
      "source": [
        "Los datos se extrajeron de la revista estadounidense Motor Trend de 1974 y comprenden el consumo de combustible y 10 aspectos del diseño y rendimiento del automóvil para 32 automóviles (modelos 1973 - 74)\n",
        "\n",
        "Un marco de datos con 32 observaciones sobre 11 variables (numéricas)\n",
        "\n",
        "*   **mpg** Millas/ galón (EE.UU.)\n",
        "*   **cyl** Número de cilindros\n",
        "*   **disp** Desplazamiento\n",
        "*   **hp** Potencia bruta\n",
        "*   **drat** Relación del eje trasero\n",
        "*   **wt** Peso (1000 lbs)\n",
        "*   **qsec** 1/4 de milla de tiempo\n",
        "*   **vs** Motor (0 = forma de V, 1= recto)\n",
        "*   **am** Transmisión ( 0 = automática, 1 = manual)\n",
        "*   **gear** Número de marchas hacia adelante\n",
        "*   **carb** Número de carburadores"
      ],
      "metadata": {
        "id": "FcCVNpL5qR7s"
      }
    },
    {
      "cell_type": "code",
      "source": [
        "mtcars"
      ],
      "metadata": {
        "colab": {
          "base_uri": "https://localhost:8080/",
          "height": 1000
        },
        "id": "fIMcgR8kuCEN",
        "outputId": "e9288e68-9253-4b95-c904-6b53e0378370"
      },
      "execution_count": 38,
      "outputs": [
        {
          "output_type": "display_data",
          "data": {
            "text/html": [
              "<table class=\"dataframe\">\n",
              "<caption>A data.frame: 32 × 11</caption>\n",
              "<thead>\n",
              "\t<tr><th></th><th scope=col>mpg</th><th scope=col>cyl</th><th scope=col>disp</th><th scope=col>hp</th><th scope=col>drat</th><th scope=col>wt</th><th scope=col>qsec</th><th scope=col>vs</th><th scope=col>am</th><th scope=col>gear</th><th scope=col>carb</th></tr>\n",
              "\t<tr><th></th><th scope=col>&lt;dbl&gt;</th><th scope=col>&lt;dbl&gt;</th><th scope=col>&lt;dbl&gt;</th><th scope=col>&lt;dbl&gt;</th><th scope=col>&lt;dbl&gt;</th><th scope=col>&lt;dbl&gt;</th><th scope=col>&lt;dbl&gt;</th><th scope=col>&lt;dbl&gt;</th><th scope=col>&lt;dbl&gt;</th><th scope=col>&lt;dbl&gt;</th><th scope=col>&lt;dbl&gt;</th></tr>\n",
              "</thead>\n",
              "<tbody>\n",
              "\t<tr><th scope=row>Mazda RX4</th><td>21.0</td><td>6</td><td>160.0</td><td>110</td><td>3.90</td><td>2.620</td><td>16.46</td><td>0</td><td>1</td><td>4</td><td>4</td></tr>\n",
              "\t<tr><th scope=row>Mazda RX4 Wag</th><td>21.0</td><td>6</td><td>160.0</td><td>110</td><td>3.90</td><td>2.875</td><td>17.02</td><td>0</td><td>1</td><td>4</td><td>4</td></tr>\n",
              "\t<tr><th scope=row>Datsun 710</th><td>22.8</td><td>4</td><td>108.0</td><td> 93</td><td>3.85</td><td>2.320</td><td>18.61</td><td>1</td><td>1</td><td>4</td><td>1</td></tr>\n",
              "\t<tr><th scope=row>Hornet 4 Drive</th><td>21.4</td><td>6</td><td>258.0</td><td>110</td><td>3.08</td><td>3.215</td><td>19.44</td><td>1</td><td>0</td><td>3</td><td>1</td></tr>\n",
              "\t<tr><th scope=row>Hornet Sportabout</th><td>18.7</td><td>8</td><td>360.0</td><td>175</td><td>3.15</td><td>3.440</td><td>17.02</td><td>0</td><td>0</td><td>3</td><td>2</td></tr>\n",
              "\t<tr><th scope=row>Valiant</th><td>18.1</td><td>6</td><td>225.0</td><td>105</td><td>2.76</td><td>3.460</td><td>20.22</td><td>1</td><td>0</td><td>3</td><td>1</td></tr>\n",
              "\t<tr><th scope=row>Duster 360</th><td>14.3</td><td>8</td><td>360.0</td><td>245</td><td>3.21</td><td>3.570</td><td>15.84</td><td>0</td><td>0</td><td>3</td><td>4</td></tr>\n",
              "\t<tr><th scope=row>Merc 240D</th><td>24.4</td><td>4</td><td>146.7</td><td> 62</td><td>3.69</td><td>3.190</td><td>20.00</td><td>1</td><td>0</td><td>4</td><td>2</td></tr>\n",
              "\t<tr><th scope=row>Merc 230</th><td>22.8</td><td>4</td><td>140.8</td><td> 95</td><td>3.92</td><td>3.150</td><td>22.90</td><td>1</td><td>0</td><td>4</td><td>2</td></tr>\n",
              "\t<tr><th scope=row>Merc 280</th><td>19.2</td><td>6</td><td>167.6</td><td>123</td><td>3.92</td><td>3.440</td><td>18.30</td><td>1</td><td>0</td><td>4</td><td>4</td></tr>\n",
              "\t<tr><th scope=row>Merc 280C</th><td>17.8</td><td>6</td><td>167.6</td><td>123</td><td>3.92</td><td>3.440</td><td>18.90</td><td>1</td><td>0</td><td>4</td><td>4</td></tr>\n",
              "\t<tr><th scope=row>Merc 450SE</th><td>16.4</td><td>8</td><td>275.8</td><td>180</td><td>3.07</td><td>4.070</td><td>17.40</td><td>0</td><td>0</td><td>3</td><td>3</td></tr>\n",
              "\t<tr><th scope=row>Merc 450SL</th><td>17.3</td><td>8</td><td>275.8</td><td>180</td><td>3.07</td><td>3.730</td><td>17.60</td><td>0</td><td>0</td><td>3</td><td>3</td></tr>\n",
              "\t<tr><th scope=row>Merc 450SLC</th><td>15.2</td><td>8</td><td>275.8</td><td>180</td><td>3.07</td><td>3.780</td><td>18.00</td><td>0</td><td>0</td><td>3</td><td>3</td></tr>\n",
              "\t<tr><th scope=row>Cadillac Fleetwood</th><td>10.4</td><td>8</td><td>472.0</td><td>205</td><td>2.93</td><td>5.250</td><td>17.98</td><td>0</td><td>0</td><td>3</td><td>4</td></tr>\n",
              "\t<tr><th scope=row>Lincoln Continental</th><td>10.4</td><td>8</td><td>460.0</td><td>215</td><td>3.00</td><td>5.424</td><td>17.82</td><td>0</td><td>0</td><td>3</td><td>4</td></tr>\n",
              "\t<tr><th scope=row>Chrysler Imperial</th><td>14.7</td><td>8</td><td>440.0</td><td>230</td><td>3.23</td><td>5.345</td><td>17.42</td><td>0</td><td>0</td><td>3</td><td>4</td></tr>\n",
              "\t<tr><th scope=row>Fiat 128</th><td>32.4</td><td>4</td><td> 78.7</td><td> 66</td><td>4.08</td><td>2.200</td><td>19.47</td><td>1</td><td>1</td><td>4</td><td>1</td></tr>\n",
              "\t<tr><th scope=row>Honda Civic</th><td>30.4</td><td>4</td><td> 75.7</td><td> 52</td><td>4.93</td><td>1.615</td><td>18.52</td><td>1</td><td>1</td><td>4</td><td>2</td></tr>\n",
              "\t<tr><th scope=row>Toyota Corolla</th><td>33.9</td><td>4</td><td> 71.1</td><td> 65</td><td>4.22</td><td>1.835</td><td>19.90</td><td>1</td><td>1</td><td>4</td><td>1</td></tr>\n",
              "\t<tr><th scope=row>Toyota Corona</th><td>21.5</td><td>4</td><td>120.1</td><td> 97</td><td>3.70</td><td>2.465</td><td>20.01</td><td>1</td><td>0</td><td>3</td><td>1</td></tr>\n",
              "\t<tr><th scope=row>Dodge Challenger</th><td>15.5</td><td>8</td><td>318.0</td><td>150</td><td>2.76</td><td>3.520</td><td>16.87</td><td>0</td><td>0</td><td>3</td><td>2</td></tr>\n",
              "\t<tr><th scope=row>AMC Javelin</th><td>15.2</td><td>8</td><td>304.0</td><td>150</td><td>3.15</td><td>3.435</td><td>17.30</td><td>0</td><td>0</td><td>3</td><td>2</td></tr>\n",
              "\t<tr><th scope=row>Camaro Z28</th><td>13.3</td><td>8</td><td>350.0</td><td>245</td><td>3.73</td><td>3.840</td><td>15.41</td><td>0</td><td>0</td><td>3</td><td>4</td></tr>\n",
              "\t<tr><th scope=row>Pontiac Firebird</th><td>19.2</td><td>8</td><td>400.0</td><td>175</td><td>3.08</td><td>3.845</td><td>17.05</td><td>0</td><td>0</td><td>3</td><td>2</td></tr>\n",
              "\t<tr><th scope=row>Fiat X1-9</th><td>27.3</td><td>4</td><td> 79.0</td><td> 66</td><td>4.08</td><td>1.935</td><td>18.90</td><td>1</td><td>1</td><td>4</td><td>1</td></tr>\n",
              "\t<tr><th scope=row>Porsche 914-2</th><td>26.0</td><td>4</td><td>120.3</td><td> 91</td><td>4.43</td><td>2.140</td><td>16.70</td><td>0</td><td>1</td><td>5</td><td>2</td></tr>\n",
              "\t<tr><th scope=row>Lotus Europa</th><td>30.4</td><td>4</td><td> 95.1</td><td>113</td><td>3.77</td><td>1.513</td><td>16.90</td><td>1</td><td>1</td><td>5</td><td>2</td></tr>\n",
              "\t<tr><th scope=row>Ford Pantera L</th><td>15.8</td><td>8</td><td>351.0</td><td>264</td><td>4.22</td><td>3.170</td><td>14.50</td><td>0</td><td>1</td><td>5</td><td>4</td></tr>\n",
              "\t<tr><th scope=row>Ferrari Dino</th><td>19.7</td><td>6</td><td>145.0</td><td>175</td><td>3.62</td><td>2.770</td><td>15.50</td><td>0</td><td>1</td><td>5</td><td>6</td></tr>\n",
              "\t<tr><th scope=row>Maserati Bora</th><td>15.0</td><td>8</td><td>301.0</td><td>335</td><td>3.54</td><td>3.570</td><td>14.60</td><td>0</td><td>1</td><td>5</td><td>8</td></tr>\n",
              "\t<tr><th scope=row>Volvo 142E</th><td>21.4</td><td>4</td><td>121.0</td><td>109</td><td>4.11</td><td>2.780</td><td>18.60</td><td>1</td><td>1</td><td>4</td><td>2</td></tr>\n",
              "</tbody>\n",
              "</table>\n"
            ],
            "text/markdown": "\nA data.frame: 32 × 11\n\n| <!--/--> | mpg &lt;dbl&gt; | cyl &lt;dbl&gt; | disp &lt;dbl&gt; | hp &lt;dbl&gt; | drat &lt;dbl&gt; | wt &lt;dbl&gt; | qsec &lt;dbl&gt; | vs &lt;dbl&gt; | am &lt;dbl&gt; | gear &lt;dbl&gt; | carb &lt;dbl&gt; |\n|---|---|---|---|---|---|---|---|---|---|---|---|\n| Mazda RX4 | 21.0 | 6 | 160.0 | 110 | 3.90 | 2.620 | 16.46 | 0 | 1 | 4 | 4 |\n| Mazda RX4 Wag | 21.0 | 6 | 160.0 | 110 | 3.90 | 2.875 | 17.02 | 0 | 1 | 4 | 4 |\n| Datsun 710 | 22.8 | 4 | 108.0 |  93 | 3.85 | 2.320 | 18.61 | 1 | 1 | 4 | 1 |\n| Hornet 4 Drive | 21.4 | 6 | 258.0 | 110 | 3.08 | 3.215 | 19.44 | 1 | 0 | 3 | 1 |\n| Hornet Sportabout | 18.7 | 8 | 360.0 | 175 | 3.15 | 3.440 | 17.02 | 0 | 0 | 3 | 2 |\n| Valiant | 18.1 | 6 | 225.0 | 105 | 2.76 | 3.460 | 20.22 | 1 | 0 | 3 | 1 |\n| Duster 360 | 14.3 | 8 | 360.0 | 245 | 3.21 | 3.570 | 15.84 | 0 | 0 | 3 | 4 |\n| Merc 240D | 24.4 | 4 | 146.7 |  62 | 3.69 | 3.190 | 20.00 | 1 | 0 | 4 | 2 |\n| Merc 230 | 22.8 | 4 | 140.8 |  95 | 3.92 | 3.150 | 22.90 | 1 | 0 | 4 | 2 |\n| Merc 280 | 19.2 | 6 | 167.6 | 123 | 3.92 | 3.440 | 18.30 | 1 | 0 | 4 | 4 |\n| Merc 280C | 17.8 | 6 | 167.6 | 123 | 3.92 | 3.440 | 18.90 | 1 | 0 | 4 | 4 |\n| Merc 450SE | 16.4 | 8 | 275.8 | 180 | 3.07 | 4.070 | 17.40 | 0 | 0 | 3 | 3 |\n| Merc 450SL | 17.3 | 8 | 275.8 | 180 | 3.07 | 3.730 | 17.60 | 0 | 0 | 3 | 3 |\n| Merc 450SLC | 15.2 | 8 | 275.8 | 180 | 3.07 | 3.780 | 18.00 | 0 | 0 | 3 | 3 |\n| Cadillac Fleetwood | 10.4 | 8 | 472.0 | 205 | 2.93 | 5.250 | 17.98 | 0 | 0 | 3 | 4 |\n| Lincoln Continental | 10.4 | 8 | 460.0 | 215 | 3.00 | 5.424 | 17.82 | 0 | 0 | 3 | 4 |\n| Chrysler Imperial | 14.7 | 8 | 440.0 | 230 | 3.23 | 5.345 | 17.42 | 0 | 0 | 3 | 4 |\n| Fiat 128 | 32.4 | 4 |  78.7 |  66 | 4.08 | 2.200 | 19.47 | 1 | 1 | 4 | 1 |\n| Honda Civic | 30.4 | 4 |  75.7 |  52 | 4.93 | 1.615 | 18.52 | 1 | 1 | 4 | 2 |\n| Toyota Corolla | 33.9 | 4 |  71.1 |  65 | 4.22 | 1.835 | 19.90 | 1 | 1 | 4 | 1 |\n| Toyota Corona | 21.5 | 4 | 120.1 |  97 | 3.70 | 2.465 | 20.01 | 1 | 0 | 3 | 1 |\n| Dodge Challenger | 15.5 | 8 | 318.0 | 150 | 2.76 | 3.520 | 16.87 | 0 | 0 | 3 | 2 |\n| AMC Javelin | 15.2 | 8 | 304.0 | 150 | 3.15 | 3.435 | 17.30 | 0 | 0 | 3 | 2 |\n| Camaro Z28 | 13.3 | 8 | 350.0 | 245 | 3.73 | 3.840 | 15.41 | 0 | 0 | 3 | 4 |\n| Pontiac Firebird | 19.2 | 8 | 400.0 | 175 | 3.08 | 3.845 | 17.05 | 0 | 0 | 3 | 2 |\n| Fiat X1-9 | 27.3 | 4 |  79.0 |  66 | 4.08 | 1.935 | 18.90 | 1 | 1 | 4 | 1 |\n| Porsche 914-2 | 26.0 | 4 | 120.3 |  91 | 4.43 | 2.140 | 16.70 | 0 | 1 | 5 | 2 |\n| Lotus Europa | 30.4 | 4 |  95.1 | 113 | 3.77 | 1.513 | 16.90 | 1 | 1 | 5 | 2 |\n| Ford Pantera L | 15.8 | 8 | 351.0 | 264 | 4.22 | 3.170 | 14.50 | 0 | 1 | 5 | 4 |\n| Ferrari Dino | 19.7 | 6 | 145.0 | 175 | 3.62 | 2.770 | 15.50 | 0 | 1 | 5 | 6 |\n| Maserati Bora | 15.0 | 8 | 301.0 | 335 | 3.54 | 3.570 | 14.60 | 0 | 1 | 5 | 8 |\n| Volvo 142E | 21.4 | 4 | 121.0 | 109 | 4.11 | 2.780 | 18.60 | 1 | 1 | 4 | 2 |\n\n",
            "text/latex": "A data.frame: 32 × 11\n\\begin{tabular}{r|lllllllllll}\n  & mpg & cyl & disp & hp & drat & wt & qsec & vs & am & gear & carb\\\\\n  & <dbl> & <dbl> & <dbl> & <dbl> & <dbl> & <dbl> & <dbl> & <dbl> & <dbl> & <dbl> & <dbl>\\\\\n\\hline\n\tMazda RX4 & 21.0 & 6 & 160.0 & 110 & 3.90 & 2.620 & 16.46 & 0 & 1 & 4 & 4\\\\\n\tMazda RX4 Wag & 21.0 & 6 & 160.0 & 110 & 3.90 & 2.875 & 17.02 & 0 & 1 & 4 & 4\\\\\n\tDatsun 710 & 22.8 & 4 & 108.0 &  93 & 3.85 & 2.320 & 18.61 & 1 & 1 & 4 & 1\\\\\n\tHornet 4 Drive & 21.4 & 6 & 258.0 & 110 & 3.08 & 3.215 & 19.44 & 1 & 0 & 3 & 1\\\\\n\tHornet Sportabout & 18.7 & 8 & 360.0 & 175 & 3.15 & 3.440 & 17.02 & 0 & 0 & 3 & 2\\\\\n\tValiant & 18.1 & 6 & 225.0 & 105 & 2.76 & 3.460 & 20.22 & 1 & 0 & 3 & 1\\\\\n\tDuster 360 & 14.3 & 8 & 360.0 & 245 & 3.21 & 3.570 & 15.84 & 0 & 0 & 3 & 4\\\\\n\tMerc 240D & 24.4 & 4 & 146.7 &  62 & 3.69 & 3.190 & 20.00 & 1 & 0 & 4 & 2\\\\\n\tMerc 230 & 22.8 & 4 & 140.8 &  95 & 3.92 & 3.150 & 22.90 & 1 & 0 & 4 & 2\\\\\n\tMerc 280 & 19.2 & 6 & 167.6 & 123 & 3.92 & 3.440 & 18.30 & 1 & 0 & 4 & 4\\\\\n\tMerc 280C & 17.8 & 6 & 167.6 & 123 & 3.92 & 3.440 & 18.90 & 1 & 0 & 4 & 4\\\\\n\tMerc 450SE & 16.4 & 8 & 275.8 & 180 & 3.07 & 4.070 & 17.40 & 0 & 0 & 3 & 3\\\\\n\tMerc 450SL & 17.3 & 8 & 275.8 & 180 & 3.07 & 3.730 & 17.60 & 0 & 0 & 3 & 3\\\\\n\tMerc 450SLC & 15.2 & 8 & 275.8 & 180 & 3.07 & 3.780 & 18.00 & 0 & 0 & 3 & 3\\\\\n\tCadillac Fleetwood & 10.4 & 8 & 472.0 & 205 & 2.93 & 5.250 & 17.98 & 0 & 0 & 3 & 4\\\\\n\tLincoln Continental & 10.4 & 8 & 460.0 & 215 & 3.00 & 5.424 & 17.82 & 0 & 0 & 3 & 4\\\\\n\tChrysler Imperial & 14.7 & 8 & 440.0 & 230 & 3.23 & 5.345 & 17.42 & 0 & 0 & 3 & 4\\\\\n\tFiat 128 & 32.4 & 4 &  78.7 &  66 & 4.08 & 2.200 & 19.47 & 1 & 1 & 4 & 1\\\\\n\tHonda Civic & 30.4 & 4 &  75.7 &  52 & 4.93 & 1.615 & 18.52 & 1 & 1 & 4 & 2\\\\\n\tToyota Corolla & 33.9 & 4 &  71.1 &  65 & 4.22 & 1.835 & 19.90 & 1 & 1 & 4 & 1\\\\\n\tToyota Corona & 21.5 & 4 & 120.1 &  97 & 3.70 & 2.465 & 20.01 & 1 & 0 & 3 & 1\\\\\n\tDodge Challenger & 15.5 & 8 & 318.0 & 150 & 2.76 & 3.520 & 16.87 & 0 & 0 & 3 & 2\\\\\n\tAMC Javelin & 15.2 & 8 & 304.0 & 150 & 3.15 & 3.435 & 17.30 & 0 & 0 & 3 & 2\\\\\n\tCamaro Z28 & 13.3 & 8 & 350.0 & 245 & 3.73 & 3.840 & 15.41 & 0 & 0 & 3 & 4\\\\\n\tPontiac Firebird & 19.2 & 8 & 400.0 & 175 & 3.08 & 3.845 & 17.05 & 0 & 0 & 3 & 2\\\\\n\tFiat X1-9 & 27.3 & 4 &  79.0 &  66 & 4.08 & 1.935 & 18.90 & 1 & 1 & 4 & 1\\\\\n\tPorsche 914-2 & 26.0 & 4 & 120.3 &  91 & 4.43 & 2.140 & 16.70 & 0 & 1 & 5 & 2\\\\\n\tLotus Europa & 30.4 & 4 &  95.1 & 113 & 3.77 & 1.513 & 16.90 & 1 & 1 & 5 & 2\\\\\n\tFord Pantera L & 15.8 & 8 & 351.0 & 264 & 4.22 & 3.170 & 14.50 & 0 & 1 & 5 & 4\\\\\n\tFerrari Dino & 19.7 & 6 & 145.0 & 175 & 3.62 & 2.770 & 15.50 & 0 & 1 & 5 & 6\\\\\n\tMaserati Bora & 15.0 & 8 & 301.0 & 335 & 3.54 & 3.570 & 14.60 & 0 & 1 & 5 & 8\\\\\n\tVolvo 142E & 21.4 & 4 & 121.0 & 109 & 4.11 & 2.780 & 18.60 & 1 & 1 & 4 & 2\\\\\n\\end{tabular}\n",
            "text/plain": [
              "                    mpg  cyl disp  hp  drat wt    qsec  vs am gear carb\n",
              "Mazda RX4           21.0 6   160.0 110 3.90 2.620 16.46 0  1  4    4   \n",
              "Mazda RX4 Wag       21.0 6   160.0 110 3.90 2.875 17.02 0  1  4    4   \n",
              "Datsun 710          22.8 4   108.0  93 3.85 2.320 18.61 1  1  4    1   \n",
              "Hornet 4 Drive      21.4 6   258.0 110 3.08 3.215 19.44 1  0  3    1   \n",
              "Hornet Sportabout   18.7 8   360.0 175 3.15 3.440 17.02 0  0  3    2   \n",
              "Valiant             18.1 6   225.0 105 2.76 3.460 20.22 1  0  3    1   \n",
              "Duster 360          14.3 8   360.0 245 3.21 3.570 15.84 0  0  3    4   \n",
              "Merc 240D           24.4 4   146.7  62 3.69 3.190 20.00 1  0  4    2   \n",
              "Merc 230            22.8 4   140.8  95 3.92 3.150 22.90 1  0  4    2   \n",
              "Merc 280            19.2 6   167.6 123 3.92 3.440 18.30 1  0  4    4   \n",
              "Merc 280C           17.8 6   167.6 123 3.92 3.440 18.90 1  0  4    4   \n",
              "Merc 450SE          16.4 8   275.8 180 3.07 4.070 17.40 0  0  3    3   \n",
              "Merc 450SL          17.3 8   275.8 180 3.07 3.730 17.60 0  0  3    3   \n",
              "Merc 450SLC         15.2 8   275.8 180 3.07 3.780 18.00 0  0  3    3   \n",
              "Cadillac Fleetwood  10.4 8   472.0 205 2.93 5.250 17.98 0  0  3    4   \n",
              "Lincoln Continental 10.4 8   460.0 215 3.00 5.424 17.82 0  0  3    4   \n",
              "Chrysler Imperial   14.7 8   440.0 230 3.23 5.345 17.42 0  0  3    4   \n",
              "Fiat 128            32.4 4    78.7  66 4.08 2.200 19.47 1  1  4    1   \n",
              "Honda Civic         30.4 4    75.7  52 4.93 1.615 18.52 1  1  4    2   \n",
              "Toyota Corolla      33.9 4    71.1  65 4.22 1.835 19.90 1  1  4    1   \n",
              "Toyota Corona       21.5 4   120.1  97 3.70 2.465 20.01 1  0  3    1   \n",
              "Dodge Challenger    15.5 8   318.0 150 2.76 3.520 16.87 0  0  3    2   \n",
              "AMC Javelin         15.2 8   304.0 150 3.15 3.435 17.30 0  0  3    2   \n",
              "Camaro Z28          13.3 8   350.0 245 3.73 3.840 15.41 0  0  3    4   \n",
              "Pontiac Firebird    19.2 8   400.0 175 3.08 3.845 17.05 0  0  3    2   \n",
              "Fiat X1-9           27.3 4    79.0  66 4.08 1.935 18.90 1  1  4    1   \n",
              "Porsche 914-2       26.0 4   120.3  91 4.43 2.140 16.70 0  1  5    2   \n",
              "Lotus Europa        30.4 4    95.1 113 3.77 1.513 16.90 1  1  5    2   \n",
              "Ford Pantera L      15.8 8   351.0 264 4.22 3.170 14.50 0  1  5    4   \n",
              "Ferrari Dino        19.7 6   145.0 175 3.62 2.770 15.50 0  1  5    6   \n",
              "Maserati Bora       15.0 8   301.0 335 3.54 3.570 14.60 0  1  5    8   \n",
              "Volvo 142E          21.4 4   121.0 109 4.11 2.780 18.60 1  1  4    2   "
            ]
          },
          "metadata": {}
        }
      ]
    },
    {
      "cell_type": "markdown",
      "source": [
        "22. Autos que tengan un rendimiento menor a 18 millas por galón de combustible."
      ],
      "metadata": {
        "id": "_V46IYW5qX1w"
      }
    },
    {
      "cell_type": "code",
      "source": [
        "subset(mtcars, subset = mpg < 18)"
      ],
      "metadata": {
        "colab": {
          "base_uri": "https://localhost:8080/",
          "height": 644
        },
        "id": "CmVyPLRquGM1",
        "outputId": "6ae1a04c-d059-41b2-b857-81edfda9261d"
      },
      "execution_count": 39,
      "outputs": [
        {
          "output_type": "display_data",
          "data": {
            "text/html": [
              "<table class=\"dataframe\">\n",
              "<caption>A data.frame: 13 × 11</caption>\n",
              "<thead>\n",
              "\t<tr><th></th><th scope=col>mpg</th><th scope=col>cyl</th><th scope=col>disp</th><th scope=col>hp</th><th scope=col>drat</th><th scope=col>wt</th><th scope=col>qsec</th><th scope=col>vs</th><th scope=col>am</th><th scope=col>gear</th><th scope=col>carb</th></tr>\n",
              "\t<tr><th></th><th scope=col>&lt;dbl&gt;</th><th scope=col>&lt;dbl&gt;</th><th scope=col>&lt;dbl&gt;</th><th scope=col>&lt;dbl&gt;</th><th scope=col>&lt;dbl&gt;</th><th scope=col>&lt;dbl&gt;</th><th scope=col>&lt;dbl&gt;</th><th scope=col>&lt;dbl&gt;</th><th scope=col>&lt;dbl&gt;</th><th scope=col>&lt;dbl&gt;</th><th scope=col>&lt;dbl&gt;</th></tr>\n",
              "</thead>\n",
              "<tbody>\n",
              "\t<tr><th scope=row>Duster 360</th><td>14.3</td><td>8</td><td>360.0</td><td>245</td><td>3.21</td><td>3.570</td><td>15.84</td><td>0</td><td>0</td><td>3</td><td>4</td></tr>\n",
              "\t<tr><th scope=row>Merc 280C</th><td>17.8</td><td>6</td><td>167.6</td><td>123</td><td>3.92</td><td>3.440</td><td>18.90</td><td>1</td><td>0</td><td>4</td><td>4</td></tr>\n",
              "\t<tr><th scope=row>Merc 450SE</th><td>16.4</td><td>8</td><td>275.8</td><td>180</td><td>3.07</td><td>4.070</td><td>17.40</td><td>0</td><td>0</td><td>3</td><td>3</td></tr>\n",
              "\t<tr><th scope=row>Merc 450SL</th><td>17.3</td><td>8</td><td>275.8</td><td>180</td><td>3.07</td><td>3.730</td><td>17.60</td><td>0</td><td>0</td><td>3</td><td>3</td></tr>\n",
              "\t<tr><th scope=row>Merc 450SLC</th><td>15.2</td><td>8</td><td>275.8</td><td>180</td><td>3.07</td><td>3.780</td><td>18.00</td><td>0</td><td>0</td><td>3</td><td>3</td></tr>\n",
              "\t<tr><th scope=row>Cadillac Fleetwood</th><td>10.4</td><td>8</td><td>472.0</td><td>205</td><td>2.93</td><td>5.250</td><td>17.98</td><td>0</td><td>0</td><td>3</td><td>4</td></tr>\n",
              "\t<tr><th scope=row>Lincoln Continental</th><td>10.4</td><td>8</td><td>460.0</td><td>215</td><td>3.00</td><td>5.424</td><td>17.82</td><td>0</td><td>0</td><td>3</td><td>4</td></tr>\n",
              "\t<tr><th scope=row>Chrysler Imperial</th><td>14.7</td><td>8</td><td>440.0</td><td>230</td><td>3.23</td><td>5.345</td><td>17.42</td><td>0</td><td>0</td><td>3</td><td>4</td></tr>\n",
              "\t<tr><th scope=row>Dodge Challenger</th><td>15.5</td><td>8</td><td>318.0</td><td>150</td><td>2.76</td><td>3.520</td><td>16.87</td><td>0</td><td>0</td><td>3</td><td>2</td></tr>\n",
              "\t<tr><th scope=row>AMC Javelin</th><td>15.2</td><td>8</td><td>304.0</td><td>150</td><td>3.15</td><td>3.435</td><td>17.30</td><td>0</td><td>0</td><td>3</td><td>2</td></tr>\n",
              "\t<tr><th scope=row>Camaro Z28</th><td>13.3</td><td>8</td><td>350.0</td><td>245</td><td>3.73</td><td>3.840</td><td>15.41</td><td>0</td><td>0</td><td>3</td><td>4</td></tr>\n",
              "\t<tr><th scope=row>Ford Pantera L</th><td>15.8</td><td>8</td><td>351.0</td><td>264</td><td>4.22</td><td>3.170</td><td>14.50</td><td>0</td><td>1</td><td>5</td><td>4</td></tr>\n",
              "\t<tr><th scope=row>Maserati Bora</th><td>15.0</td><td>8</td><td>301.0</td><td>335</td><td>3.54</td><td>3.570</td><td>14.60</td><td>0</td><td>1</td><td>5</td><td>8</td></tr>\n",
              "</tbody>\n",
              "</table>\n"
            ],
            "text/markdown": "\nA data.frame: 13 × 11\n\n| <!--/--> | mpg &lt;dbl&gt; | cyl &lt;dbl&gt; | disp &lt;dbl&gt; | hp &lt;dbl&gt; | drat &lt;dbl&gt; | wt &lt;dbl&gt; | qsec &lt;dbl&gt; | vs &lt;dbl&gt; | am &lt;dbl&gt; | gear &lt;dbl&gt; | carb &lt;dbl&gt; |\n|---|---|---|---|---|---|---|---|---|---|---|---|\n| Duster 360 | 14.3 | 8 | 360.0 | 245 | 3.21 | 3.570 | 15.84 | 0 | 0 | 3 | 4 |\n| Merc 280C | 17.8 | 6 | 167.6 | 123 | 3.92 | 3.440 | 18.90 | 1 | 0 | 4 | 4 |\n| Merc 450SE | 16.4 | 8 | 275.8 | 180 | 3.07 | 4.070 | 17.40 | 0 | 0 | 3 | 3 |\n| Merc 450SL | 17.3 | 8 | 275.8 | 180 | 3.07 | 3.730 | 17.60 | 0 | 0 | 3 | 3 |\n| Merc 450SLC | 15.2 | 8 | 275.8 | 180 | 3.07 | 3.780 | 18.00 | 0 | 0 | 3 | 3 |\n| Cadillac Fleetwood | 10.4 | 8 | 472.0 | 205 | 2.93 | 5.250 | 17.98 | 0 | 0 | 3 | 4 |\n| Lincoln Continental | 10.4 | 8 | 460.0 | 215 | 3.00 | 5.424 | 17.82 | 0 | 0 | 3 | 4 |\n| Chrysler Imperial | 14.7 | 8 | 440.0 | 230 | 3.23 | 5.345 | 17.42 | 0 | 0 | 3 | 4 |\n| Dodge Challenger | 15.5 | 8 | 318.0 | 150 | 2.76 | 3.520 | 16.87 | 0 | 0 | 3 | 2 |\n| AMC Javelin | 15.2 | 8 | 304.0 | 150 | 3.15 | 3.435 | 17.30 | 0 | 0 | 3 | 2 |\n| Camaro Z28 | 13.3 | 8 | 350.0 | 245 | 3.73 | 3.840 | 15.41 | 0 | 0 | 3 | 4 |\n| Ford Pantera L | 15.8 | 8 | 351.0 | 264 | 4.22 | 3.170 | 14.50 | 0 | 1 | 5 | 4 |\n| Maserati Bora | 15.0 | 8 | 301.0 | 335 | 3.54 | 3.570 | 14.60 | 0 | 1 | 5 | 8 |\n\n",
            "text/latex": "A data.frame: 13 × 11\n\\begin{tabular}{r|lllllllllll}\n  & mpg & cyl & disp & hp & drat & wt & qsec & vs & am & gear & carb\\\\\n  & <dbl> & <dbl> & <dbl> & <dbl> & <dbl> & <dbl> & <dbl> & <dbl> & <dbl> & <dbl> & <dbl>\\\\\n\\hline\n\tDuster 360 & 14.3 & 8 & 360.0 & 245 & 3.21 & 3.570 & 15.84 & 0 & 0 & 3 & 4\\\\\n\tMerc 280C & 17.8 & 6 & 167.6 & 123 & 3.92 & 3.440 & 18.90 & 1 & 0 & 4 & 4\\\\\n\tMerc 450SE & 16.4 & 8 & 275.8 & 180 & 3.07 & 4.070 & 17.40 & 0 & 0 & 3 & 3\\\\\n\tMerc 450SL & 17.3 & 8 & 275.8 & 180 & 3.07 & 3.730 & 17.60 & 0 & 0 & 3 & 3\\\\\n\tMerc 450SLC & 15.2 & 8 & 275.8 & 180 & 3.07 & 3.780 & 18.00 & 0 & 0 & 3 & 3\\\\\n\tCadillac Fleetwood & 10.4 & 8 & 472.0 & 205 & 2.93 & 5.250 & 17.98 & 0 & 0 & 3 & 4\\\\\n\tLincoln Continental & 10.4 & 8 & 460.0 & 215 & 3.00 & 5.424 & 17.82 & 0 & 0 & 3 & 4\\\\\n\tChrysler Imperial & 14.7 & 8 & 440.0 & 230 & 3.23 & 5.345 & 17.42 & 0 & 0 & 3 & 4\\\\\n\tDodge Challenger & 15.5 & 8 & 318.0 & 150 & 2.76 & 3.520 & 16.87 & 0 & 0 & 3 & 2\\\\\n\tAMC Javelin & 15.2 & 8 & 304.0 & 150 & 3.15 & 3.435 & 17.30 & 0 & 0 & 3 & 2\\\\\n\tCamaro Z28 & 13.3 & 8 & 350.0 & 245 & 3.73 & 3.840 & 15.41 & 0 & 0 & 3 & 4\\\\\n\tFord Pantera L & 15.8 & 8 & 351.0 & 264 & 4.22 & 3.170 & 14.50 & 0 & 1 & 5 & 4\\\\\n\tMaserati Bora & 15.0 & 8 & 301.0 & 335 & 3.54 & 3.570 & 14.60 & 0 & 1 & 5 & 8\\\\\n\\end{tabular}\n",
            "text/plain": [
              "                    mpg  cyl disp  hp  drat wt    qsec  vs am gear carb\n",
              "Duster 360          14.3 8   360.0 245 3.21 3.570 15.84 0  0  3    4   \n",
              "Merc 280C           17.8 6   167.6 123 3.92 3.440 18.90 1  0  4    4   \n",
              "Merc 450SE          16.4 8   275.8 180 3.07 4.070 17.40 0  0  3    3   \n",
              "Merc 450SL          17.3 8   275.8 180 3.07 3.730 17.60 0  0  3    3   \n",
              "Merc 450SLC         15.2 8   275.8 180 3.07 3.780 18.00 0  0  3    3   \n",
              "Cadillac Fleetwood  10.4 8   472.0 205 2.93 5.250 17.98 0  0  3    4   \n",
              "Lincoln Continental 10.4 8   460.0 215 3.00 5.424 17.82 0  0  3    4   \n",
              "Chrysler Imperial   14.7 8   440.0 230 3.23 5.345 17.42 0  0  3    4   \n",
              "Dodge Challenger    15.5 8   318.0 150 2.76 3.520 16.87 0  0  3    2   \n",
              "AMC Javelin         15.2 8   304.0 150 3.15 3.435 17.30 0  0  3    2   \n",
              "Camaro Z28          13.3 8   350.0 245 3.73 3.840 15.41 0  0  3    4   \n",
              "Ford Pantera L      15.8 8   351.0 264 4.22 3.170 14.50 0  1  5    4   \n",
              "Maserati Bora       15.0 8   301.0 335 3.54 3.570 14.60 0  1  5    8   "
            ]
          },
          "metadata": {}
        }
      ]
    },
    {
      "cell_type": "markdown",
      "source": [
        "23. Autos que tengan 4 cilindros."
      ],
      "metadata": {
        "id": "OmsGHwRQqYiT"
      }
    },
    {
      "cell_type": "code",
      "source": [
        "subset(mtcars, subset = cyl == 4)"
      ],
      "metadata": {
        "colab": {
          "base_uri": "https://localhost:8080/",
          "height": 512
        },
        "id": "YI8JzVk2uJXA",
        "outputId": "82f1c892-4c9a-4505-e64e-dcf2501665b7"
      },
      "execution_count": 40,
      "outputs": [
        {
          "output_type": "display_data",
          "data": {
            "text/html": [
              "<table class=\"dataframe\">\n",
              "<caption>A data.frame: 11 × 11</caption>\n",
              "<thead>\n",
              "\t<tr><th></th><th scope=col>mpg</th><th scope=col>cyl</th><th scope=col>disp</th><th scope=col>hp</th><th scope=col>drat</th><th scope=col>wt</th><th scope=col>qsec</th><th scope=col>vs</th><th scope=col>am</th><th scope=col>gear</th><th scope=col>carb</th></tr>\n",
              "\t<tr><th></th><th scope=col>&lt;dbl&gt;</th><th scope=col>&lt;dbl&gt;</th><th scope=col>&lt;dbl&gt;</th><th scope=col>&lt;dbl&gt;</th><th scope=col>&lt;dbl&gt;</th><th scope=col>&lt;dbl&gt;</th><th scope=col>&lt;dbl&gt;</th><th scope=col>&lt;dbl&gt;</th><th scope=col>&lt;dbl&gt;</th><th scope=col>&lt;dbl&gt;</th><th scope=col>&lt;dbl&gt;</th></tr>\n",
              "</thead>\n",
              "<tbody>\n",
              "\t<tr><th scope=row>Datsun 710</th><td>22.8</td><td>4</td><td>108.0</td><td> 93</td><td>3.85</td><td>2.320</td><td>18.61</td><td>1</td><td>1</td><td>4</td><td>1</td></tr>\n",
              "\t<tr><th scope=row>Merc 240D</th><td>24.4</td><td>4</td><td>146.7</td><td> 62</td><td>3.69</td><td>3.190</td><td>20.00</td><td>1</td><td>0</td><td>4</td><td>2</td></tr>\n",
              "\t<tr><th scope=row>Merc 230</th><td>22.8</td><td>4</td><td>140.8</td><td> 95</td><td>3.92</td><td>3.150</td><td>22.90</td><td>1</td><td>0</td><td>4</td><td>2</td></tr>\n",
              "\t<tr><th scope=row>Fiat 128</th><td>32.4</td><td>4</td><td> 78.7</td><td> 66</td><td>4.08</td><td>2.200</td><td>19.47</td><td>1</td><td>1</td><td>4</td><td>1</td></tr>\n",
              "\t<tr><th scope=row>Honda Civic</th><td>30.4</td><td>4</td><td> 75.7</td><td> 52</td><td>4.93</td><td>1.615</td><td>18.52</td><td>1</td><td>1</td><td>4</td><td>2</td></tr>\n",
              "\t<tr><th scope=row>Toyota Corolla</th><td>33.9</td><td>4</td><td> 71.1</td><td> 65</td><td>4.22</td><td>1.835</td><td>19.90</td><td>1</td><td>1</td><td>4</td><td>1</td></tr>\n",
              "\t<tr><th scope=row>Toyota Corona</th><td>21.5</td><td>4</td><td>120.1</td><td> 97</td><td>3.70</td><td>2.465</td><td>20.01</td><td>1</td><td>0</td><td>3</td><td>1</td></tr>\n",
              "\t<tr><th scope=row>Fiat X1-9</th><td>27.3</td><td>4</td><td> 79.0</td><td> 66</td><td>4.08</td><td>1.935</td><td>18.90</td><td>1</td><td>1</td><td>4</td><td>1</td></tr>\n",
              "\t<tr><th scope=row>Porsche 914-2</th><td>26.0</td><td>4</td><td>120.3</td><td> 91</td><td>4.43</td><td>2.140</td><td>16.70</td><td>0</td><td>1</td><td>5</td><td>2</td></tr>\n",
              "\t<tr><th scope=row>Lotus Europa</th><td>30.4</td><td>4</td><td> 95.1</td><td>113</td><td>3.77</td><td>1.513</td><td>16.90</td><td>1</td><td>1</td><td>5</td><td>2</td></tr>\n",
              "\t<tr><th scope=row>Volvo 142E</th><td>21.4</td><td>4</td><td>121.0</td><td>109</td><td>4.11</td><td>2.780</td><td>18.60</td><td>1</td><td>1</td><td>4</td><td>2</td></tr>\n",
              "</tbody>\n",
              "</table>\n"
            ],
            "text/markdown": "\nA data.frame: 11 × 11\n\n| <!--/--> | mpg &lt;dbl&gt; | cyl &lt;dbl&gt; | disp &lt;dbl&gt; | hp &lt;dbl&gt; | drat &lt;dbl&gt; | wt &lt;dbl&gt; | qsec &lt;dbl&gt; | vs &lt;dbl&gt; | am &lt;dbl&gt; | gear &lt;dbl&gt; | carb &lt;dbl&gt; |\n|---|---|---|---|---|---|---|---|---|---|---|---|\n| Datsun 710 | 22.8 | 4 | 108.0 |  93 | 3.85 | 2.320 | 18.61 | 1 | 1 | 4 | 1 |\n| Merc 240D | 24.4 | 4 | 146.7 |  62 | 3.69 | 3.190 | 20.00 | 1 | 0 | 4 | 2 |\n| Merc 230 | 22.8 | 4 | 140.8 |  95 | 3.92 | 3.150 | 22.90 | 1 | 0 | 4 | 2 |\n| Fiat 128 | 32.4 | 4 |  78.7 |  66 | 4.08 | 2.200 | 19.47 | 1 | 1 | 4 | 1 |\n| Honda Civic | 30.4 | 4 |  75.7 |  52 | 4.93 | 1.615 | 18.52 | 1 | 1 | 4 | 2 |\n| Toyota Corolla | 33.9 | 4 |  71.1 |  65 | 4.22 | 1.835 | 19.90 | 1 | 1 | 4 | 1 |\n| Toyota Corona | 21.5 | 4 | 120.1 |  97 | 3.70 | 2.465 | 20.01 | 1 | 0 | 3 | 1 |\n| Fiat X1-9 | 27.3 | 4 |  79.0 |  66 | 4.08 | 1.935 | 18.90 | 1 | 1 | 4 | 1 |\n| Porsche 914-2 | 26.0 | 4 | 120.3 |  91 | 4.43 | 2.140 | 16.70 | 0 | 1 | 5 | 2 |\n| Lotus Europa | 30.4 | 4 |  95.1 | 113 | 3.77 | 1.513 | 16.90 | 1 | 1 | 5 | 2 |\n| Volvo 142E | 21.4 | 4 | 121.0 | 109 | 4.11 | 2.780 | 18.60 | 1 | 1 | 4 | 2 |\n\n",
            "text/latex": "A data.frame: 11 × 11\n\\begin{tabular}{r|lllllllllll}\n  & mpg & cyl & disp & hp & drat & wt & qsec & vs & am & gear & carb\\\\\n  & <dbl> & <dbl> & <dbl> & <dbl> & <dbl> & <dbl> & <dbl> & <dbl> & <dbl> & <dbl> & <dbl>\\\\\n\\hline\n\tDatsun 710 & 22.8 & 4 & 108.0 &  93 & 3.85 & 2.320 & 18.61 & 1 & 1 & 4 & 1\\\\\n\tMerc 240D & 24.4 & 4 & 146.7 &  62 & 3.69 & 3.190 & 20.00 & 1 & 0 & 4 & 2\\\\\n\tMerc 230 & 22.8 & 4 & 140.8 &  95 & 3.92 & 3.150 & 22.90 & 1 & 0 & 4 & 2\\\\\n\tFiat 128 & 32.4 & 4 &  78.7 &  66 & 4.08 & 2.200 & 19.47 & 1 & 1 & 4 & 1\\\\\n\tHonda Civic & 30.4 & 4 &  75.7 &  52 & 4.93 & 1.615 & 18.52 & 1 & 1 & 4 & 2\\\\\n\tToyota Corolla & 33.9 & 4 &  71.1 &  65 & 4.22 & 1.835 & 19.90 & 1 & 1 & 4 & 1\\\\\n\tToyota Corona & 21.5 & 4 & 120.1 &  97 & 3.70 & 2.465 & 20.01 & 1 & 0 & 3 & 1\\\\\n\tFiat X1-9 & 27.3 & 4 &  79.0 &  66 & 4.08 & 1.935 & 18.90 & 1 & 1 & 4 & 1\\\\\n\tPorsche 914-2 & 26.0 & 4 & 120.3 &  91 & 4.43 & 2.140 & 16.70 & 0 & 1 & 5 & 2\\\\\n\tLotus Europa & 30.4 & 4 &  95.1 & 113 & 3.77 & 1.513 & 16.90 & 1 & 1 & 5 & 2\\\\\n\tVolvo 142E & 21.4 & 4 & 121.0 & 109 & 4.11 & 2.780 & 18.60 & 1 & 1 & 4 & 2\\\\\n\\end{tabular}\n",
            "text/plain": [
              "               mpg  cyl disp  hp  drat wt    qsec  vs am gear carb\n",
              "Datsun 710     22.8 4   108.0  93 3.85 2.320 18.61 1  1  4    1   \n",
              "Merc 240D      24.4 4   146.7  62 3.69 3.190 20.00 1  0  4    2   \n",
              "Merc 230       22.8 4   140.8  95 3.92 3.150 22.90 1  0  4    2   \n",
              "Fiat 128       32.4 4    78.7  66 4.08 2.200 19.47 1  1  4    1   \n",
              "Honda Civic    30.4 4    75.7  52 4.93 1.615 18.52 1  1  4    2   \n",
              "Toyota Corolla 33.9 4    71.1  65 4.22 1.835 19.90 1  1  4    1   \n",
              "Toyota Corona  21.5 4   120.1  97 3.70 2.465 20.01 1  0  3    1   \n",
              "Fiat X1-9      27.3 4    79.0  66 4.08 1.935 18.90 1  1  4    1   \n",
              "Porsche 914-2  26.0 4   120.3  91 4.43 2.140 16.70 0  1  5    2   \n",
              "Lotus Europa   30.4 4    95.1 113 3.77 1.513 16.90 1  1  5    2   \n",
              "Volvo 142E     21.4 4   121.0 109 4.11 2.780 18.60 1  1  4    2   "
            ]
          },
          "metadata": {}
        }
      ]
    },
    {
      "cell_type": "markdown",
      "source": [
        "24. Autos que pesen más de 2500 libras y tengan transmisión manual."
      ],
      "metadata": {
        "id": "Fj5RQAfUqbZN"
      }
    },
    {
      "cell_type": "code",
      "source": [
        "subset(mtcars, subset = wt > 2.5 & am == 1)"
      ],
      "metadata": {
        "colab": {
          "base_uri": "https://localhost:8080/",
          "height": 338
        },
        "id": "w-86cKQNuMTB",
        "outputId": "6bca28d1-9de8-4dee-bbfe-98d09550b0a6"
      },
      "execution_count": 41,
      "outputs": [
        {
          "output_type": "display_data",
          "data": {
            "text/html": [
              "<table class=\"dataframe\">\n",
              "<caption>A data.frame: 6 × 11</caption>\n",
              "<thead>\n",
              "\t<tr><th></th><th scope=col>mpg</th><th scope=col>cyl</th><th scope=col>disp</th><th scope=col>hp</th><th scope=col>drat</th><th scope=col>wt</th><th scope=col>qsec</th><th scope=col>vs</th><th scope=col>am</th><th scope=col>gear</th><th scope=col>carb</th></tr>\n",
              "\t<tr><th></th><th scope=col>&lt;dbl&gt;</th><th scope=col>&lt;dbl&gt;</th><th scope=col>&lt;dbl&gt;</th><th scope=col>&lt;dbl&gt;</th><th scope=col>&lt;dbl&gt;</th><th scope=col>&lt;dbl&gt;</th><th scope=col>&lt;dbl&gt;</th><th scope=col>&lt;dbl&gt;</th><th scope=col>&lt;dbl&gt;</th><th scope=col>&lt;dbl&gt;</th><th scope=col>&lt;dbl&gt;</th></tr>\n",
              "</thead>\n",
              "<tbody>\n",
              "\t<tr><th scope=row>Mazda RX4</th><td>21.0</td><td>6</td><td>160</td><td>110</td><td>3.90</td><td>2.620</td><td>16.46</td><td>0</td><td>1</td><td>4</td><td>4</td></tr>\n",
              "\t<tr><th scope=row>Mazda RX4 Wag</th><td>21.0</td><td>6</td><td>160</td><td>110</td><td>3.90</td><td>2.875</td><td>17.02</td><td>0</td><td>1</td><td>4</td><td>4</td></tr>\n",
              "\t<tr><th scope=row>Ford Pantera L</th><td>15.8</td><td>8</td><td>351</td><td>264</td><td>4.22</td><td>3.170</td><td>14.50</td><td>0</td><td>1</td><td>5</td><td>4</td></tr>\n",
              "\t<tr><th scope=row>Ferrari Dino</th><td>19.7</td><td>6</td><td>145</td><td>175</td><td>3.62</td><td>2.770</td><td>15.50</td><td>0</td><td>1</td><td>5</td><td>6</td></tr>\n",
              "\t<tr><th scope=row>Maserati Bora</th><td>15.0</td><td>8</td><td>301</td><td>335</td><td>3.54</td><td>3.570</td><td>14.60</td><td>0</td><td>1</td><td>5</td><td>8</td></tr>\n",
              "\t<tr><th scope=row>Volvo 142E</th><td>21.4</td><td>4</td><td>121</td><td>109</td><td>4.11</td><td>2.780</td><td>18.60</td><td>1</td><td>1</td><td>4</td><td>2</td></tr>\n",
              "</tbody>\n",
              "</table>\n"
            ],
            "text/markdown": "\nA data.frame: 6 × 11\n\n| <!--/--> | mpg &lt;dbl&gt; | cyl &lt;dbl&gt; | disp &lt;dbl&gt; | hp &lt;dbl&gt; | drat &lt;dbl&gt; | wt &lt;dbl&gt; | qsec &lt;dbl&gt; | vs &lt;dbl&gt; | am &lt;dbl&gt; | gear &lt;dbl&gt; | carb &lt;dbl&gt; |\n|---|---|---|---|---|---|---|---|---|---|---|---|\n| Mazda RX4 | 21.0 | 6 | 160 | 110 | 3.90 | 2.620 | 16.46 | 0 | 1 | 4 | 4 |\n| Mazda RX4 Wag | 21.0 | 6 | 160 | 110 | 3.90 | 2.875 | 17.02 | 0 | 1 | 4 | 4 |\n| Ford Pantera L | 15.8 | 8 | 351 | 264 | 4.22 | 3.170 | 14.50 | 0 | 1 | 5 | 4 |\n| Ferrari Dino | 19.7 | 6 | 145 | 175 | 3.62 | 2.770 | 15.50 | 0 | 1 | 5 | 6 |\n| Maserati Bora | 15.0 | 8 | 301 | 335 | 3.54 | 3.570 | 14.60 | 0 | 1 | 5 | 8 |\n| Volvo 142E | 21.4 | 4 | 121 | 109 | 4.11 | 2.780 | 18.60 | 1 | 1 | 4 | 2 |\n\n",
            "text/latex": "A data.frame: 6 × 11\n\\begin{tabular}{r|lllllllllll}\n  & mpg & cyl & disp & hp & drat & wt & qsec & vs & am & gear & carb\\\\\n  & <dbl> & <dbl> & <dbl> & <dbl> & <dbl> & <dbl> & <dbl> & <dbl> & <dbl> & <dbl> & <dbl>\\\\\n\\hline\n\tMazda RX4 & 21.0 & 6 & 160 & 110 & 3.90 & 2.620 & 16.46 & 0 & 1 & 4 & 4\\\\\n\tMazda RX4 Wag & 21.0 & 6 & 160 & 110 & 3.90 & 2.875 & 17.02 & 0 & 1 & 4 & 4\\\\\n\tFord Pantera L & 15.8 & 8 & 351 & 264 & 4.22 & 3.170 & 14.50 & 0 & 1 & 5 & 4\\\\\n\tFerrari Dino & 19.7 & 6 & 145 & 175 & 3.62 & 2.770 & 15.50 & 0 & 1 & 5 & 6\\\\\n\tMaserati Bora & 15.0 & 8 & 301 & 335 & 3.54 & 3.570 & 14.60 & 0 & 1 & 5 & 8\\\\\n\tVolvo 142E & 21.4 & 4 & 121 & 109 & 4.11 & 2.780 & 18.60 & 1 & 1 & 4 & 2\\\\\n\\end{tabular}\n",
            "text/plain": [
              "               mpg  cyl disp hp  drat wt    qsec  vs am gear carb\n",
              "Mazda RX4      21.0 6   160  110 3.90 2.620 16.46 0  1  4    4   \n",
              "Mazda RX4 Wag  21.0 6   160  110 3.90 2.875 17.02 0  1  4    4   \n",
              "Ford Pantera L 15.8 8   351  264 4.22 3.170 14.50 0  1  5    4   \n",
              "Ferrari Dino   19.7 6   145  175 3.62 2.770 15.50 0  1  5    6   \n",
              "Maserati Bora  15.0 8   301  335 3.54 3.570 14.60 0  1  5    8   \n",
              "Volvo 142E     21.4 4   121  109 4.11 2.780 18.60 1  1  4    2   "
            ]
          },
          "metadata": {}
        }
      ]
    },
    {
      "cell_type": "markdown",
      "source": [],
      "metadata": {
        "id": "aaiVVrZdqd5p"
      }
    }
  ]
}